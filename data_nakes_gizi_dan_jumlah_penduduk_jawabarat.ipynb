{
  "cells": [
    {
      "cell_type": "markdown",
      "metadata": {
        "id": "view-in-github",
        "colab_type": "text"
      },
      "source": [
        "<a href=\"https://colab.research.google.com/github/cici31/Portfolio/blob/main/data_nakes_gizi_dan_jumlah_penduduk_jawabarat.ipynb\" target=\"_parent\"><img src=\"https://colab.research.google.com/assets/colab-badge.svg\" alt=\"Open In Colab\"/></a>"
      ]
    },
    {
      "cell_type": "markdown",
      "source": [
        "Memprediksi Jumlah Balita Gizi Buruk berdasarkan Jumlah Penduduk Miskin Jabar per Kabupaten/Kota Tahun 2020\n",
        "\n"
      ],
      "metadata": {
        "id": "lBJIvN9Vr3lb"
      }
    },
    {
      "cell_type": "code",
      "source": [
        "import pandas as pd\n",
        "import matplotlib.pyplot as plt \n",
        "import seaborn as sns\n",
        "import numpy as np\n",
        "from scipy.stats import skew,kurtosis,shapiro,f_oneway\n",
        "import math"
      ],
      "metadata": {
        "id": "KvuzuQBWyDKd"
      },
      "execution_count": null,
      "outputs": []
    },
    {
      "cell_type": "code",
      "source": [
        "from google.colab import drive\n",
        "drive.mount('/content/drive')"
      ],
      "metadata": {
        "colab": {
          "base_uri": "https://localhost:8080/"
        },
        "id": "70x5YVCiTTLH",
        "outputId": "c2517456-0f11-406a-8e90-e74422824a82"
      },
      "execution_count": null,
      "outputs": [
        {
          "output_type": "stream",
          "name": "stdout",
          "text": [
            "Mounted at /content/drive\n"
          ]
        }
      ]
    },
    {
      "cell_type": "code",
      "source": [
        "data_1 = pd.read_csv('/content/drive/MyDrive/Colab Notebooks/dinkes-od_17184_jml_tenaga_kesehatan_gizi_di_rumah_sakit__jk_data.csv')\n",
        "data_2 = pd.read_csv('/content/drive/MyDrive/Colab Notebooks/dinkes-od_17107_jumlah_balita_berdasarkan_kategori_balita_gizi_buruk_data.csv')\n",
        "data_3 = pd.read_csv('/content/drive/MyDrive/Colab Notebooks/Jumlah-Penduduk-Miskin (1).csv')"
      ],
      "metadata": {
        "id": "7zlzfc9IyIhi"
      },
      "execution_count": null,
      "outputs": []
    },
    {
      "cell_type": "code",
      "source": [
        "data_1"
      ],
      "metadata": {
        "id": "8uTJUQcDya7-",
        "colab": {
          "base_uri": "https://localhost:8080/",
          "height": 423
        },
        "outputId": "2aef5d35-59ae-4d4d-bea2-847038a28ea9"
      },
      "execution_count": null,
      "outputs": [
        {
          "output_type": "execute_result",
          "data": {
            "text/plain": [
              "      id  kode_provinsi nama_provinsi  kode_kabupaten_kota  \\\n",
              "0      1             32    JAWA BARAT                 3201   \n",
              "1      2             32    JAWA BARAT                 3201   \n",
              "2      3             32    JAWA BARAT                 3202   \n",
              "3      4             32    JAWA BARAT                 3202   \n",
              "4      5             32    JAWA BARAT                 3203   \n",
              "..   ...            ...           ...                  ...   \n",
              "157  158             32    JAWA BARAT                 3277   \n",
              "158  159             32    JAWA BARAT                 3278   \n",
              "159  160             32    JAWA BARAT                 3278   \n",
              "160  161             32    JAWA BARAT                 3279   \n",
              "161  162             32    JAWA BARAT                 3279   \n",
              "\n",
              "    nama_kabupaten_kota jenis_kelamin  jumlah_nakes_gizi satuan  tahun  \n",
              "0       KABUPATEN BOGOR     LAKI-LAKI                  7  ORANG   2018  \n",
              "1       KABUPATEN BOGOR     PEREMPUAN                 33  ORANG   2018  \n",
              "2    KABUPATEN SUKABUMI     LAKI-LAKI                 27  ORANG   2018  \n",
              "3    KABUPATEN SUKABUMI     PEREMPUAN                 50  ORANG   2018  \n",
              "4     KABUPATEN CIANJUR     LAKI-LAKI                 18  ORANG   2018  \n",
              "..                  ...           ...                ...    ...    ...  \n",
              "157         KOTA CIMAHI     PEREMPUAN                 26  ORANG   2020  \n",
              "158    KOTA TASIKMALAYA     LAKI-LAKI                  6  ORANG   2020  \n",
              "159    KOTA TASIKMALAYA     PEREMPUAN                 26  ORANG   2020  \n",
              "160         KOTA BANJAR     LAKI-LAKI                  2  ORANG   2020  \n",
              "161         KOTA BANJAR     PEREMPUAN                  7  ORANG   2020  \n",
              "\n",
              "[162 rows x 9 columns]"
            ],
            "text/html": [
              "\n",
              "  <div id=\"df-c3dfa3c6-0497-407a-81bd-cc2fbfb372f3\">\n",
              "    <div class=\"colab-df-container\">\n",
              "      <div>\n",
              "<style scoped>\n",
              "    .dataframe tbody tr th:only-of-type {\n",
              "        vertical-align: middle;\n",
              "    }\n",
              "\n",
              "    .dataframe tbody tr th {\n",
              "        vertical-align: top;\n",
              "    }\n",
              "\n",
              "    .dataframe thead th {\n",
              "        text-align: right;\n",
              "    }\n",
              "</style>\n",
              "<table border=\"1\" class=\"dataframe\">\n",
              "  <thead>\n",
              "    <tr style=\"text-align: right;\">\n",
              "      <th></th>\n",
              "      <th>id</th>\n",
              "      <th>kode_provinsi</th>\n",
              "      <th>nama_provinsi</th>\n",
              "      <th>kode_kabupaten_kota</th>\n",
              "      <th>nama_kabupaten_kota</th>\n",
              "      <th>jenis_kelamin</th>\n",
              "      <th>jumlah_nakes_gizi</th>\n",
              "      <th>satuan</th>\n",
              "      <th>tahun</th>\n",
              "    </tr>\n",
              "  </thead>\n",
              "  <tbody>\n",
              "    <tr>\n",
              "      <th>0</th>\n",
              "      <td>1</td>\n",
              "      <td>32</td>\n",
              "      <td>JAWA BARAT</td>\n",
              "      <td>3201</td>\n",
              "      <td>KABUPATEN BOGOR</td>\n",
              "      <td>LAKI-LAKI</td>\n",
              "      <td>7</td>\n",
              "      <td>ORANG</td>\n",
              "      <td>2018</td>\n",
              "    </tr>\n",
              "    <tr>\n",
              "      <th>1</th>\n",
              "      <td>2</td>\n",
              "      <td>32</td>\n",
              "      <td>JAWA BARAT</td>\n",
              "      <td>3201</td>\n",
              "      <td>KABUPATEN BOGOR</td>\n",
              "      <td>PEREMPUAN</td>\n",
              "      <td>33</td>\n",
              "      <td>ORANG</td>\n",
              "      <td>2018</td>\n",
              "    </tr>\n",
              "    <tr>\n",
              "      <th>2</th>\n",
              "      <td>3</td>\n",
              "      <td>32</td>\n",
              "      <td>JAWA BARAT</td>\n",
              "      <td>3202</td>\n",
              "      <td>KABUPATEN SUKABUMI</td>\n",
              "      <td>LAKI-LAKI</td>\n",
              "      <td>27</td>\n",
              "      <td>ORANG</td>\n",
              "      <td>2018</td>\n",
              "    </tr>\n",
              "    <tr>\n",
              "      <th>3</th>\n",
              "      <td>4</td>\n",
              "      <td>32</td>\n",
              "      <td>JAWA BARAT</td>\n",
              "      <td>3202</td>\n",
              "      <td>KABUPATEN SUKABUMI</td>\n",
              "      <td>PEREMPUAN</td>\n",
              "      <td>50</td>\n",
              "      <td>ORANG</td>\n",
              "      <td>2018</td>\n",
              "    </tr>\n",
              "    <tr>\n",
              "      <th>4</th>\n",
              "      <td>5</td>\n",
              "      <td>32</td>\n",
              "      <td>JAWA BARAT</td>\n",
              "      <td>3203</td>\n",
              "      <td>KABUPATEN CIANJUR</td>\n",
              "      <td>LAKI-LAKI</td>\n",
              "      <td>18</td>\n",
              "      <td>ORANG</td>\n",
              "      <td>2018</td>\n",
              "    </tr>\n",
              "    <tr>\n",
              "      <th>...</th>\n",
              "      <td>...</td>\n",
              "      <td>...</td>\n",
              "      <td>...</td>\n",
              "      <td>...</td>\n",
              "      <td>...</td>\n",
              "      <td>...</td>\n",
              "      <td>...</td>\n",
              "      <td>...</td>\n",
              "      <td>...</td>\n",
              "    </tr>\n",
              "    <tr>\n",
              "      <th>157</th>\n",
              "      <td>158</td>\n",
              "      <td>32</td>\n",
              "      <td>JAWA BARAT</td>\n",
              "      <td>3277</td>\n",
              "      <td>KOTA CIMAHI</td>\n",
              "      <td>PEREMPUAN</td>\n",
              "      <td>26</td>\n",
              "      <td>ORANG</td>\n",
              "      <td>2020</td>\n",
              "    </tr>\n",
              "    <tr>\n",
              "      <th>158</th>\n",
              "      <td>159</td>\n",
              "      <td>32</td>\n",
              "      <td>JAWA BARAT</td>\n",
              "      <td>3278</td>\n",
              "      <td>KOTA TASIKMALAYA</td>\n",
              "      <td>LAKI-LAKI</td>\n",
              "      <td>6</td>\n",
              "      <td>ORANG</td>\n",
              "      <td>2020</td>\n",
              "    </tr>\n",
              "    <tr>\n",
              "      <th>159</th>\n",
              "      <td>160</td>\n",
              "      <td>32</td>\n",
              "      <td>JAWA BARAT</td>\n",
              "      <td>3278</td>\n",
              "      <td>KOTA TASIKMALAYA</td>\n",
              "      <td>PEREMPUAN</td>\n",
              "      <td>26</td>\n",
              "      <td>ORANG</td>\n",
              "      <td>2020</td>\n",
              "    </tr>\n",
              "    <tr>\n",
              "      <th>160</th>\n",
              "      <td>161</td>\n",
              "      <td>32</td>\n",
              "      <td>JAWA BARAT</td>\n",
              "      <td>3279</td>\n",
              "      <td>KOTA BANJAR</td>\n",
              "      <td>LAKI-LAKI</td>\n",
              "      <td>2</td>\n",
              "      <td>ORANG</td>\n",
              "      <td>2020</td>\n",
              "    </tr>\n",
              "    <tr>\n",
              "      <th>161</th>\n",
              "      <td>162</td>\n",
              "      <td>32</td>\n",
              "      <td>JAWA BARAT</td>\n",
              "      <td>3279</td>\n",
              "      <td>KOTA BANJAR</td>\n",
              "      <td>PEREMPUAN</td>\n",
              "      <td>7</td>\n",
              "      <td>ORANG</td>\n",
              "      <td>2020</td>\n",
              "    </tr>\n",
              "  </tbody>\n",
              "</table>\n",
              "<p>162 rows × 9 columns</p>\n",
              "</div>\n",
              "      <button class=\"colab-df-convert\" onclick=\"convertToInteractive('df-c3dfa3c6-0497-407a-81bd-cc2fbfb372f3')\"\n",
              "              title=\"Convert this dataframe to an interactive table.\"\n",
              "              style=\"display:none;\">\n",
              "        \n",
              "  <svg xmlns=\"http://www.w3.org/2000/svg\" height=\"24px\"viewBox=\"0 0 24 24\"\n",
              "       width=\"24px\">\n",
              "    <path d=\"M0 0h24v24H0V0z\" fill=\"none\"/>\n",
              "    <path d=\"M18.56 5.44l.94 2.06.94-2.06 2.06-.94-2.06-.94-.94-2.06-.94 2.06-2.06.94zm-11 1L8.5 8.5l.94-2.06 2.06-.94-2.06-.94L8.5 2.5l-.94 2.06-2.06.94zm10 10l.94 2.06.94-2.06 2.06-.94-2.06-.94-.94-2.06-.94 2.06-2.06.94z\"/><path d=\"M17.41 7.96l-1.37-1.37c-.4-.4-.92-.59-1.43-.59-.52 0-1.04.2-1.43.59L10.3 9.45l-7.72 7.72c-.78.78-.78 2.05 0 2.83L4 21.41c.39.39.9.59 1.41.59.51 0 1.02-.2 1.41-.59l7.78-7.78 2.81-2.81c.8-.78.8-2.07 0-2.86zM5.41 20L4 18.59l7.72-7.72 1.47 1.35L5.41 20z\"/>\n",
              "  </svg>\n",
              "      </button>\n",
              "      \n",
              "  <style>\n",
              "    .colab-df-container {\n",
              "      display:flex;\n",
              "      flex-wrap:wrap;\n",
              "      gap: 12px;\n",
              "    }\n",
              "\n",
              "    .colab-df-convert {\n",
              "      background-color: #E8F0FE;\n",
              "      border: none;\n",
              "      border-radius: 50%;\n",
              "      cursor: pointer;\n",
              "      display: none;\n",
              "      fill: #1967D2;\n",
              "      height: 32px;\n",
              "      padding: 0 0 0 0;\n",
              "      width: 32px;\n",
              "    }\n",
              "\n",
              "    .colab-df-convert:hover {\n",
              "      background-color: #E2EBFA;\n",
              "      box-shadow: 0px 1px 2px rgba(60, 64, 67, 0.3), 0px 1px 3px 1px rgba(60, 64, 67, 0.15);\n",
              "      fill: #174EA6;\n",
              "    }\n",
              "\n",
              "    [theme=dark] .colab-df-convert {\n",
              "      background-color: #3B4455;\n",
              "      fill: #D2E3FC;\n",
              "    }\n",
              "\n",
              "    [theme=dark] .colab-df-convert:hover {\n",
              "      background-color: #434B5C;\n",
              "      box-shadow: 0px 1px 3px 1px rgba(0, 0, 0, 0.15);\n",
              "      filter: drop-shadow(0px 1px 2px rgba(0, 0, 0, 0.3));\n",
              "      fill: #FFFFFF;\n",
              "    }\n",
              "  </style>\n",
              "\n",
              "      <script>\n",
              "        const buttonEl =\n",
              "          document.querySelector('#df-c3dfa3c6-0497-407a-81bd-cc2fbfb372f3 button.colab-df-convert');\n",
              "        buttonEl.style.display =\n",
              "          google.colab.kernel.accessAllowed ? 'block' : 'none';\n",
              "\n",
              "        async function convertToInteractive(key) {\n",
              "          const element = document.querySelector('#df-c3dfa3c6-0497-407a-81bd-cc2fbfb372f3');\n",
              "          const dataTable =\n",
              "            await google.colab.kernel.invokeFunction('convertToInteractive',\n",
              "                                                     [key], {});\n",
              "          if (!dataTable) return;\n",
              "\n",
              "          const docLinkHtml = 'Like what you see? Visit the ' +\n",
              "            '<a target=\"_blank\" href=https://colab.research.google.com/notebooks/data_table.ipynb>data table notebook</a>'\n",
              "            + ' to learn more about interactive tables.';\n",
              "          element.innerHTML = '';\n",
              "          dataTable['output_type'] = 'display_data';\n",
              "          await google.colab.output.renderOutput(dataTable, element);\n",
              "          const docLink = document.createElement('div');\n",
              "          docLink.innerHTML = docLinkHtml;\n",
              "          element.appendChild(docLink);\n",
              "        }\n",
              "      </script>\n",
              "    </div>\n",
              "  </div>\n",
              "  "
            ]
          },
          "metadata": {},
          "execution_count": 4
        }
      ]
    },
    {
      "cell_type": "markdown",
      "source": [
        "dengan fungsi .loc saya mengambil data pada tahun 2020 saja karena pada proses analisis ini data terbaru hanya sampai pada tahun 2020 saja"
      ],
      "metadata": {
        "id": "g1sAlQgMrTln"
      }
    },
    {
      "cell_type": "code",
      "source": [
        "df=data_1[['nama_kabupaten_kota','jumlah_nakes_gizi']].loc[data_1['tahun']==2020].reset_index()\n",
        "ddf=df.groupby(by=\"nama_kabupaten_kota\").sum().sort_values('index', ascending=True)\n",
        "jml_n=ddf.drop(['index'],axis=1)\n",
        "jml_n.head()"
      ],
      "metadata": {
        "id": "7C3U0OCv0Y2V",
        "colab": {
          "base_uri": "https://localhost:8080/",
          "height": 237
        },
        "outputId": "db355143-2184-478c-9efd-cf86ca962e64"
      },
      "execution_count": null,
      "outputs": [
        {
          "output_type": "execute_result",
          "data": {
            "text/plain": [
              "                     jumlah_nakes_gizi\n",
              "nama_kabupaten_kota                   \n",
              "KABUPATEN BOGOR                    118\n",
              "KABUPATEN SUKABUMI                  64\n",
              "KABUPATEN CIANJUR                   11\n",
              "KABUPATEN BANDUNG                   36\n",
              "KABUPATEN GARUT                     50"
            ],
            "text/html": [
              "\n",
              "  <div id=\"df-92f1e1a2-28d5-42b8-9a25-da493589f2e3\">\n",
              "    <div class=\"colab-df-container\">\n",
              "      <div>\n",
              "<style scoped>\n",
              "    .dataframe tbody tr th:only-of-type {\n",
              "        vertical-align: middle;\n",
              "    }\n",
              "\n",
              "    .dataframe tbody tr th {\n",
              "        vertical-align: top;\n",
              "    }\n",
              "\n",
              "    .dataframe thead th {\n",
              "        text-align: right;\n",
              "    }\n",
              "</style>\n",
              "<table border=\"1\" class=\"dataframe\">\n",
              "  <thead>\n",
              "    <tr style=\"text-align: right;\">\n",
              "      <th></th>\n",
              "      <th>jumlah_nakes_gizi</th>\n",
              "    </tr>\n",
              "    <tr>\n",
              "      <th>nama_kabupaten_kota</th>\n",
              "      <th></th>\n",
              "    </tr>\n",
              "  </thead>\n",
              "  <tbody>\n",
              "    <tr>\n",
              "      <th>KABUPATEN BOGOR</th>\n",
              "      <td>118</td>\n",
              "    </tr>\n",
              "    <tr>\n",
              "      <th>KABUPATEN SUKABUMI</th>\n",
              "      <td>64</td>\n",
              "    </tr>\n",
              "    <tr>\n",
              "      <th>KABUPATEN CIANJUR</th>\n",
              "      <td>11</td>\n",
              "    </tr>\n",
              "    <tr>\n",
              "      <th>KABUPATEN BANDUNG</th>\n",
              "      <td>36</td>\n",
              "    </tr>\n",
              "    <tr>\n",
              "      <th>KABUPATEN GARUT</th>\n",
              "      <td>50</td>\n",
              "    </tr>\n",
              "  </tbody>\n",
              "</table>\n",
              "</div>\n",
              "      <button class=\"colab-df-convert\" onclick=\"convertToInteractive('df-92f1e1a2-28d5-42b8-9a25-da493589f2e3')\"\n",
              "              title=\"Convert this dataframe to an interactive table.\"\n",
              "              style=\"display:none;\">\n",
              "        \n",
              "  <svg xmlns=\"http://www.w3.org/2000/svg\" height=\"24px\"viewBox=\"0 0 24 24\"\n",
              "       width=\"24px\">\n",
              "    <path d=\"M0 0h24v24H0V0z\" fill=\"none\"/>\n",
              "    <path d=\"M18.56 5.44l.94 2.06.94-2.06 2.06-.94-2.06-.94-.94-2.06-.94 2.06-2.06.94zm-11 1L8.5 8.5l.94-2.06 2.06-.94-2.06-.94L8.5 2.5l-.94 2.06-2.06.94zm10 10l.94 2.06.94-2.06 2.06-.94-2.06-.94-.94-2.06-.94 2.06-2.06.94z\"/><path d=\"M17.41 7.96l-1.37-1.37c-.4-.4-.92-.59-1.43-.59-.52 0-1.04.2-1.43.59L10.3 9.45l-7.72 7.72c-.78.78-.78 2.05 0 2.83L4 21.41c.39.39.9.59 1.41.59.51 0 1.02-.2 1.41-.59l7.78-7.78 2.81-2.81c.8-.78.8-2.07 0-2.86zM5.41 20L4 18.59l7.72-7.72 1.47 1.35L5.41 20z\"/>\n",
              "  </svg>\n",
              "      </button>\n",
              "      \n",
              "  <style>\n",
              "    .colab-df-container {\n",
              "      display:flex;\n",
              "      flex-wrap:wrap;\n",
              "      gap: 12px;\n",
              "    }\n",
              "\n",
              "    .colab-df-convert {\n",
              "      background-color: #E8F0FE;\n",
              "      border: none;\n",
              "      border-radius: 50%;\n",
              "      cursor: pointer;\n",
              "      display: none;\n",
              "      fill: #1967D2;\n",
              "      height: 32px;\n",
              "      padding: 0 0 0 0;\n",
              "      width: 32px;\n",
              "    }\n",
              "\n",
              "    .colab-df-convert:hover {\n",
              "      background-color: #E2EBFA;\n",
              "      box-shadow: 0px 1px 2px rgba(60, 64, 67, 0.3), 0px 1px 3px 1px rgba(60, 64, 67, 0.15);\n",
              "      fill: #174EA6;\n",
              "    }\n",
              "\n",
              "    [theme=dark] .colab-df-convert {\n",
              "      background-color: #3B4455;\n",
              "      fill: #D2E3FC;\n",
              "    }\n",
              "\n",
              "    [theme=dark] .colab-df-convert:hover {\n",
              "      background-color: #434B5C;\n",
              "      box-shadow: 0px 1px 3px 1px rgba(0, 0, 0, 0.15);\n",
              "      filter: drop-shadow(0px 1px 2px rgba(0, 0, 0, 0.3));\n",
              "      fill: #FFFFFF;\n",
              "    }\n",
              "  </style>\n",
              "\n",
              "      <script>\n",
              "        const buttonEl =\n",
              "          document.querySelector('#df-92f1e1a2-28d5-42b8-9a25-da493589f2e3 button.colab-df-convert');\n",
              "        buttonEl.style.display =\n",
              "          google.colab.kernel.accessAllowed ? 'block' : 'none';\n",
              "\n",
              "        async function convertToInteractive(key) {\n",
              "          const element = document.querySelector('#df-92f1e1a2-28d5-42b8-9a25-da493589f2e3');\n",
              "          const dataTable =\n",
              "            await google.colab.kernel.invokeFunction('convertToInteractive',\n",
              "                                                     [key], {});\n",
              "          if (!dataTable) return;\n",
              "\n",
              "          const docLinkHtml = 'Like what you see? Visit the ' +\n",
              "            '<a target=\"_blank\" href=https://colab.research.google.com/notebooks/data_table.ipynb>data table notebook</a>'\n",
              "            + ' to learn more about interactive tables.';\n",
              "          element.innerHTML = '';\n",
              "          dataTable['output_type'] = 'display_data';\n",
              "          await google.colab.output.renderOutput(dataTable, element);\n",
              "          const docLink = document.createElement('div');\n",
              "          docLink.innerHTML = docLinkHtml;\n",
              "          element.appendChild(docLink);\n",
              "        }\n",
              "      </script>\n",
              "    </div>\n",
              "  </div>\n",
              "  "
            ]
          },
          "metadata": {},
          "execution_count": 34
        }
      ]
    },
    {
      "cell_type": "code",
      "source": [
        "data_2.isnull().any()"
      ],
      "metadata": {
        "id": "_4N7V0SvVt5V",
        "colab": {
          "base_uri": "https://localhost:8080/"
        },
        "outputId": "5f0b2928-38d7-4371-c928-13cc5000d1f8"
      },
      "execution_count": null,
      "outputs": [
        {
          "output_type": "execute_result",
          "data": {
            "text/plain": [
              "id                     False\n",
              "kode_provinsi          False\n",
              "nama_provinsi          False\n",
              "kode_kabupaten_kota    False\n",
              "nama_kabupaten_kota    False\n",
              "kategori_gizi_buruk    False\n",
              "jumlah_balita           True\n",
              "satuan                 False\n",
              "tahun                  False\n",
              "dtype: bool"
            ]
          },
          "metadata": {},
          "execution_count": 6
        }
      ]
    },
    {
      "cell_type": "markdown",
      "source": [
        "Terlihat data_2 terdapat data yang kosong pada kolom jumlah_balita sehingga diperlukan proses handling missing value."
      ],
      "metadata": {
        "id": "-XGGHWYYsbx4"
      }
    },
    {
      "cell_type": "code",
      "source": [
        "daf=data_2[['kategori_gizi_buruk','jumlah_balita','tahun']]\n",
        "daf.loc[daf['tahun']==2020]"
      ],
      "metadata": {
        "id": "xSp3qUA-1ueu",
        "colab": {
          "base_uri": "https://localhost:8080/",
          "height": 423
        },
        "outputId": "14cd3ec8-8a31-44bf-efae-414dc1fac9ca"
      },
      "execution_count": null,
      "outputs": [
        {
          "output_type": "execute_result",
          "data": {
            "text/plain": [
              "    kategori_gizi_buruk  jumlah_balita  tahun\n",
              "81   BALITA GIZI KURANG        21322.0   2020\n",
              "82        BALITA PENDEK            NaN   2020\n",
              "83         BALITA KURUS            NaN   2020\n",
              "84   BALITA GIZI KURANG         8838.0   2020\n",
              "85        BALITA PENDEK            NaN   2020\n",
              "..                  ...            ...    ...\n",
              "157       BALITA PENDEK            NaN   2020\n",
              "158        BALITA KURUS            NaN   2020\n",
              "159  BALITA GIZI KURANG         1086.0   2020\n",
              "160       BALITA PENDEK            NaN   2020\n",
              "161        BALITA KURUS            NaN   2020\n",
              "\n",
              "[81 rows x 3 columns]"
            ],
            "text/html": [
              "\n",
              "  <div id=\"df-17b07c39-a720-4b1b-a30d-a016e9bde2de\">\n",
              "    <div class=\"colab-df-container\">\n",
              "      <div>\n",
              "<style scoped>\n",
              "    .dataframe tbody tr th:only-of-type {\n",
              "        vertical-align: middle;\n",
              "    }\n",
              "\n",
              "    .dataframe tbody tr th {\n",
              "        vertical-align: top;\n",
              "    }\n",
              "\n",
              "    .dataframe thead th {\n",
              "        text-align: right;\n",
              "    }\n",
              "</style>\n",
              "<table border=\"1\" class=\"dataframe\">\n",
              "  <thead>\n",
              "    <tr style=\"text-align: right;\">\n",
              "      <th></th>\n",
              "      <th>kategori_gizi_buruk</th>\n",
              "      <th>jumlah_balita</th>\n",
              "      <th>tahun</th>\n",
              "    </tr>\n",
              "  </thead>\n",
              "  <tbody>\n",
              "    <tr>\n",
              "      <th>81</th>\n",
              "      <td>BALITA GIZI KURANG</td>\n",
              "      <td>21322.0</td>\n",
              "      <td>2020</td>\n",
              "    </tr>\n",
              "    <tr>\n",
              "      <th>82</th>\n",
              "      <td>BALITA PENDEK</td>\n",
              "      <td>NaN</td>\n",
              "      <td>2020</td>\n",
              "    </tr>\n",
              "    <tr>\n",
              "      <th>83</th>\n",
              "      <td>BALITA KURUS</td>\n",
              "      <td>NaN</td>\n",
              "      <td>2020</td>\n",
              "    </tr>\n",
              "    <tr>\n",
              "      <th>84</th>\n",
              "      <td>BALITA GIZI KURANG</td>\n",
              "      <td>8838.0</td>\n",
              "      <td>2020</td>\n",
              "    </tr>\n",
              "    <tr>\n",
              "      <th>85</th>\n",
              "      <td>BALITA PENDEK</td>\n",
              "      <td>NaN</td>\n",
              "      <td>2020</td>\n",
              "    </tr>\n",
              "    <tr>\n",
              "      <th>...</th>\n",
              "      <td>...</td>\n",
              "      <td>...</td>\n",
              "      <td>...</td>\n",
              "    </tr>\n",
              "    <tr>\n",
              "      <th>157</th>\n",
              "      <td>BALITA PENDEK</td>\n",
              "      <td>NaN</td>\n",
              "      <td>2020</td>\n",
              "    </tr>\n",
              "    <tr>\n",
              "      <th>158</th>\n",
              "      <td>BALITA KURUS</td>\n",
              "      <td>NaN</td>\n",
              "      <td>2020</td>\n",
              "    </tr>\n",
              "    <tr>\n",
              "      <th>159</th>\n",
              "      <td>BALITA GIZI KURANG</td>\n",
              "      <td>1086.0</td>\n",
              "      <td>2020</td>\n",
              "    </tr>\n",
              "    <tr>\n",
              "      <th>160</th>\n",
              "      <td>BALITA PENDEK</td>\n",
              "      <td>NaN</td>\n",
              "      <td>2020</td>\n",
              "    </tr>\n",
              "    <tr>\n",
              "      <th>161</th>\n",
              "      <td>BALITA KURUS</td>\n",
              "      <td>NaN</td>\n",
              "      <td>2020</td>\n",
              "    </tr>\n",
              "  </tbody>\n",
              "</table>\n",
              "<p>81 rows × 3 columns</p>\n",
              "</div>\n",
              "      <button class=\"colab-df-convert\" onclick=\"convertToInteractive('df-17b07c39-a720-4b1b-a30d-a016e9bde2de')\"\n",
              "              title=\"Convert this dataframe to an interactive table.\"\n",
              "              style=\"display:none;\">\n",
              "        \n",
              "  <svg xmlns=\"http://www.w3.org/2000/svg\" height=\"24px\"viewBox=\"0 0 24 24\"\n",
              "       width=\"24px\">\n",
              "    <path d=\"M0 0h24v24H0V0z\" fill=\"none\"/>\n",
              "    <path d=\"M18.56 5.44l.94 2.06.94-2.06 2.06-.94-2.06-.94-.94-2.06-.94 2.06-2.06.94zm-11 1L8.5 8.5l.94-2.06 2.06-.94-2.06-.94L8.5 2.5l-.94 2.06-2.06.94zm10 10l.94 2.06.94-2.06 2.06-.94-2.06-.94-.94-2.06-.94 2.06-2.06.94z\"/><path d=\"M17.41 7.96l-1.37-1.37c-.4-.4-.92-.59-1.43-.59-.52 0-1.04.2-1.43.59L10.3 9.45l-7.72 7.72c-.78.78-.78 2.05 0 2.83L4 21.41c.39.39.9.59 1.41.59.51 0 1.02-.2 1.41-.59l7.78-7.78 2.81-2.81c.8-.78.8-2.07 0-2.86zM5.41 20L4 18.59l7.72-7.72 1.47 1.35L5.41 20z\"/>\n",
              "  </svg>\n",
              "      </button>\n",
              "      \n",
              "  <style>\n",
              "    .colab-df-container {\n",
              "      display:flex;\n",
              "      flex-wrap:wrap;\n",
              "      gap: 12px;\n",
              "    }\n",
              "\n",
              "    .colab-df-convert {\n",
              "      background-color: #E8F0FE;\n",
              "      border: none;\n",
              "      border-radius: 50%;\n",
              "      cursor: pointer;\n",
              "      display: none;\n",
              "      fill: #1967D2;\n",
              "      height: 32px;\n",
              "      padding: 0 0 0 0;\n",
              "      width: 32px;\n",
              "    }\n",
              "\n",
              "    .colab-df-convert:hover {\n",
              "      background-color: #E2EBFA;\n",
              "      box-shadow: 0px 1px 2px rgba(60, 64, 67, 0.3), 0px 1px 3px 1px rgba(60, 64, 67, 0.15);\n",
              "      fill: #174EA6;\n",
              "    }\n",
              "\n",
              "    [theme=dark] .colab-df-convert {\n",
              "      background-color: #3B4455;\n",
              "      fill: #D2E3FC;\n",
              "    }\n",
              "\n",
              "    [theme=dark] .colab-df-convert:hover {\n",
              "      background-color: #434B5C;\n",
              "      box-shadow: 0px 1px 3px 1px rgba(0, 0, 0, 0.15);\n",
              "      filter: drop-shadow(0px 1px 2px rgba(0, 0, 0, 0.3));\n",
              "      fill: #FFFFFF;\n",
              "    }\n",
              "  </style>\n",
              "\n",
              "      <script>\n",
              "        const buttonEl =\n",
              "          document.querySelector('#df-17b07c39-a720-4b1b-a30d-a016e9bde2de button.colab-df-convert');\n",
              "        buttonEl.style.display =\n",
              "          google.colab.kernel.accessAllowed ? 'block' : 'none';\n",
              "\n",
              "        async function convertToInteractive(key) {\n",
              "          const element = document.querySelector('#df-17b07c39-a720-4b1b-a30d-a016e9bde2de');\n",
              "          const dataTable =\n",
              "            await google.colab.kernel.invokeFunction('convertToInteractive',\n",
              "                                                     [key], {});\n",
              "          if (!dataTable) return;\n",
              "\n",
              "          const docLinkHtml = 'Like what you see? Visit the ' +\n",
              "            '<a target=\"_blank\" href=https://colab.research.google.com/notebooks/data_table.ipynb>data table notebook</a>'\n",
              "            + ' to learn more about interactive tables.';\n",
              "          element.innerHTML = '';\n",
              "          dataTable['output_type'] = 'display_data';\n",
              "          await google.colab.output.renderOutput(dataTable, element);\n",
              "          const docLink = document.createElement('div');\n",
              "          docLink.innerHTML = docLinkHtml;\n",
              "          element.appendChild(docLink);\n",
              "        }\n",
              "      </script>\n",
              "    </div>\n",
              "  </div>\n",
              "  "
            ]
          },
          "metadata": {},
          "execution_count": 7
        }
      ]
    },
    {
      "cell_type": "markdown",
      "source": [
        "Terlihat hanya data balita gizi buruk saja yang memiliki data, sehingga data balita kurus dan pendek bisa dihilangkan"
      ],
      "metadata": {
        "id": "6A1qHbwos1nL"
      }
    },
    {
      "cell_type": "code",
      "source": [
        "df2=data_2.loc[data_2['tahun']==2020].drop(columns=['id','kode_provinsi','nama_provinsi','kode_kabupaten_kota','satuan','tahun']).fillna(0)\n",
        "aa=df2.loc[df2['kategori_gizi_buruk']=='BALITA GIZI KURANG'].reset_index().sort_values('index', ascending=True)\n",
        "jml_balita=aa[['nama_kabupaten_kota','jumlah_balita']]\n",
        "jml_balita"
      ],
      "metadata": {
        "id": "LKdya9jy6BTB",
        "colab": {
          "base_uri": "https://localhost:8080/",
          "height": 895
        },
        "outputId": "9fcc2500-8fc7-4d4e-eca0-a3906464861f"
      },
      "execution_count": null,
      "outputs": [
        {
          "output_type": "execute_result",
          "data": {
            "text/plain": [
              "        nama_kabupaten_kota  jumlah_balita\n",
              "0           KABUPATEN BOGOR        21322.0\n",
              "1        KABUPATEN SUKABUMI         8838.0\n",
              "2         KABUPATEN CIANJUR         9069.0\n",
              "3         KABUPATEN BANDUNG        13728.0\n",
              "4           KABUPATEN GARUT         9128.0\n",
              "5     KABUPATEN TASIKMALAYA         9275.0\n",
              "6          KABUPATEN CIAMIS         4810.0\n",
              "7        KABUPATEN KUNINGAN         4265.0\n",
              "8         KABUPATEN CIREBON        15737.0\n",
              "9      KABUPATEN MAJALENGKA         4549.0\n",
              "10       KABUPATEN SUMEDANG         5784.0\n",
              "11      KABUPATEN INDRAMAYU         5218.0\n",
              "12         KABUPATEN SUBANG         2977.0\n",
              "13     KABUPATEN PURWAKARTA         2648.0\n",
              "14       KABUPATEN KARAWANG         4647.0\n",
              "15         KABUPATEN BEKASI         6723.0\n",
              "16  KABUPATEN BANDUNG BARAT         6130.0\n",
              "17    KABUPATEN PANGANDARAN          161.0\n",
              "18               KOTA BOGOR         2915.0\n",
              "19            KOTA SUKABUMI         1333.0\n",
              "20             KOTA BANDUNG         7910.0\n",
              "21             KOTA CIREBON         2149.0\n",
              "22              KOTA BEKASI         8228.0\n",
              "23               KOTA DEPOK         5948.0\n",
              "24              KOTA CIMAHI         2491.0\n",
              "25         KOTA TASIKMALAYA         3738.0\n",
              "26              KOTA BANJAR         1086.0"
            ],
            "text/html": [
              "\n",
              "  <div id=\"df-b881d2d3-de15-4fb7-99c8-1a60568347de\">\n",
              "    <div class=\"colab-df-container\">\n",
              "      <div>\n",
              "<style scoped>\n",
              "    .dataframe tbody tr th:only-of-type {\n",
              "        vertical-align: middle;\n",
              "    }\n",
              "\n",
              "    .dataframe tbody tr th {\n",
              "        vertical-align: top;\n",
              "    }\n",
              "\n",
              "    .dataframe thead th {\n",
              "        text-align: right;\n",
              "    }\n",
              "</style>\n",
              "<table border=\"1\" class=\"dataframe\">\n",
              "  <thead>\n",
              "    <tr style=\"text-align: right;\">\n",
              "      <th></th>\n",
              "      <th>nama_kabupaten_kota</th>\n",
              "      <th>jumlah_balita</th>\n",
              "    </tr>\n",
              "  </thead>\n",
              "  <tbody>\n",
              "    <tr>\n",
              "      <th>0</th>\n",
              "      <td>KABUPATEN BOGOR</td>\n",
              "      <td>21322.0</td>\n",
              "    </tr>\n",
              "    <tr>\n",
              "      <th>1</th>\n",
              "      <td>KABUPATEN SUKABUMI</td>\n",
              "      <td>8838.0</td>\n",
              "    </tr>\n",
              "    <tr>\n",
              "      <th>2</th>\n",
              "      <td>KABUPATEN CIANJUR</td>\n",
              "      <td>9069.0</td>\n",
              "    </tr>\n",
              "    <tr>\n",
              "      <th>3</th>\n",
              "      <td>KABUPATEN BANDUNG</td>\n",
              "      <td>13728.0</td>\n",
              "    </tr>\n",
              "    <tr>\n",
              "      <th>4</th>\n",
              "      <td>KABUPATEN GARUT</td>\n",
              "      <td>9128.0</td>\n",
              "    </tr>\n",
              "    <tr>\n",
              "      <th>5</th>\n",
              "      <td>KABUPATEN TASIKMALAYA</td>\n",
              "      <td>9275.0</td>\n",
              "    </tr>\n",
              "    <tr>\n",
              "      <th>6</th>\n",
              "      <td>KABUPATEN CIAMIS</td>\n",
              "      <td>4810.0</td>\n",
              "    </tr>\n",
              "    <tr>\n",
              "      <th>7</th>\n",
              "      <td>KABUPATEN KUNINGAN</td>\n",
              "      <td>4265.0</td>\n",
              "    </tr>\n",
              "    <tr>\n",
              "      <th>8</th>\n",
              "      <td>KABUPATEN CIREBON</td>\n",
              "      <td>15737.0</td>\n",
              "    </tr>\n",
              "    <tr>\n",
              "      <th>9</th>\n",
              "      <td>KABUPATEN MAJALENGKA</td>\n",
              "      <td>4549.0</td>\n",
              "    </tr>\n",
              "    <tr>\n",
              "      <th>10</th>\n",
              "      <td>KABUPATEN SUMEDANG</td>\n",
              "      <td>5784.0</td>\n",
              "    </tr>\n",
              "    <tr>\n",
              "      <th>11</th>\n",
              "      <td>KABUPATEN INDRAMAYU</td>\n",
              "      <td>5218.0</td>\n",
              "    </tr>\n",
              "    <tr>\n",
              "      <th>12</th>\n",
              "      <td>KABUPATEN SUBANG</td>\n",
              "      <td>2977.0</td>\n",
              "    </tr>\n",
              "    <tr>\n",
              "      <th>13</th>\n",
              "      <td>KABUPATEN PURWAKARTA</td>\n",
              "      <td>2648.0</td>\n",
              "    </tr>\n",
              "    <tr>\n",
              "      <th>14</th>\n",
              "      <td>KABUPATEN KARAWANG</td>\n",
              "      <td>4647.0</td>\n",
              "    </tr>\n",
              "    <tr>\n",
              "      <th>15</th>\n",
              "      <td>KABUPATEN BEKASI</td>\n",
              "      <td>6723.0</td>\n",
              "    </tr>\n",
              "    <tr>\n",
              "      <th>16</th>\n",
              "      <td>KABUPATEN BANDUNG BARAT</td>\n",
              "      <td>6130.0</td>\n",
              "    </tr>\n",
              "    <tr>\n",
              "      <th>17</th>\n",
              "      <td>KABUPATEN PANGANDARAN</td>\n",
              "      <td>161.0</td>\n",
              "    </tr>\n",
              "    <tr>\n",
              "      <th>18</th>\n",
              "      <td>KOTA BOGOR</td>\n",
              "      <td>2915.0</td>\n",
              "    </tr>\n",
              "    <tr>\n",
              "      <th>19</th>\n",
              "      <td>KOTA SUKABUMI</td>\n",
              "      <td>1333.0</td>\n",
              "    </tr>\n",
              "    <tr>\n",
              "      <th>20</th>\n",
              "      <td>KOTA BANDUNG</td>\n",
              "      <td>7910.0</td>\n",
              "    </tr>\n",
              "    <tr>\n",
              "      <th>21</th>\n",
              "      <td>KOTA CIREBON</td>\n",
              "      <td>2149.0</td>\n",
              "    </tr>\n",
              "    <tr>\n",
              "      <th>22</th>\n",
              "      <td>KOTA BEKASI</td>\n",
              "      <td>8228.0</td>\n",
              "    </tr>\n",
              "    <tr>\n",
              "      <th>23</th>\n",
              "      <td>KOTA DEPOK</td>\n",
              "      <td>5948.0</td>\n",
              "    </tr>\n",
              "    <tr>\n",
              "      <th>24</th>\n",
              "      <td>KOTA CIMAHI</td>\n",
              "      <td>2491.0</td>\n",
              "    </tr>\n",
              "    <tr>\n",
              "      <th>25</th>\n",
              "      <td>KOTA TASIKMALAYA</td>\n",
              "      <td>3738.0</td>\n",
              "    </tr>\n",
              "    <tr>\n",
              "      <th>26</th>\n",
              "      <td>KOTA BANJAR</td>\n",
              "      <td>1086.0</td>\n",
              "    </tr>\n",
              "  </tbody>\n",
              "</table>\n",
              "</div>\n",
              "      <button class=\"colab-df-convert\" onclick=\"convertToInteractive('df-b881d2d3-de15-4fb7-99c8-1a60568347de')\"\n",
              "              title=\"Convert this dataframe to an interactive table.\"\n",
              "              style=\"display:none;\">\n",
              "        \n",
              "  <svg xmlns=\"http://www.w3.org/2000/svg\" height=\"24px\"viewBox=\"0 0 24 24\"\n",
              "       width=\"24px\">\n",
              "    <path d=\"M0 0h24v24H0V0z\" fill=\"none\"/>\n",
              "    <path d=\"M18.56 5.44l.94 2.06.94-2.06 2.06-.94-2.06-.94-.94-2.06-.94 2.06-2.06.94zm-11 1L8.5 8.5l.94-2.06 2.06-.94-2.06-.94L8.5 2.5l-.94 2.06-2.06.94zm10 10l.94 2.06.94-2.06 2.06-.94-2.06-.94-.94-2.06-.94 2.06-2.06.94z\"/><path d=\"M17.41 7.96l-1.37-1.37c-.4-.4-.92-.59-1.43-.59-.52 0-1.04.2-1.43.59L10.3 9.45l-7.72 7.72c-.78.78-.78 2.05 0 2.83L4 21.41c.39.39.9.59 1.41.59.51 0 1.02-.2 1.41-.59l7.78-7.78 2.81-2.81c.8-.78.8-2.07 0-2.86zM5.41 20L4 18.59l7.72-7.72 1.47 1.35L5.41 20z\"/>\n",
              "  </svg>\n",
              "      </button>\n",
              "      \n",
              "  <style>\n",
              "    .colab-df-container {\n",
              "      display:flex;\n",
              "      flex-wrap:wrap;\n",
              "      gap: 12px;\n",
              "    }\n",
              "\n",
              "    .colab-df-convert {\n",
              "      background-color: #E8F0FE;\n",
              "      border: none;\n",
              "      border-radius: 50%;\n",
              "      cursor: pointer;\n",
              "      display: none;\n",
              "      fill: #1967D2;\n",
              "      height: 32px;\n",
              "      padding: 0 0 0 0;\n",
              "      width: 32px;\n",
              "    }\n",
              "\n",
              "    .colab-df-convert:hover {\n",
              "      background-color: #E2EBFA;\n",
              "      box-shadow: 0px 1px 2px rgba(60, 64, 67, 0.3), 0px 1px 3px 1px rgba(60, 64, 67, 0.15);\n",
              "      fill: #174EA6;\n",
              "    }\n",
              "\n",
              "    [theme=dark] .colab-df-convert {\n",
              "      background-color: #3B4455;\n",
              "      fill: #D2E3FC;\n",
              "    }\n",
              "\n",
              "    [theme=dark] .colab-df-convert:hover {\n",
              "      background-color: #434B5C;\n",
              "      box-shadow: 0px 1px 3px 1px rgba(0, 0, 0, 0.15);\n",
              "      filter: drop-shadow(0px 1px 2px rgba(0, 0, 0, 0.3));\n",
              "      fill: #FFFFFF;\n",
              "    }\n",
              "  </style>\n",
              "\n",
              "      <script>\n",
              "        const buttonEl =\n",
              "          document.querySelector('#df-b881d2d3-de15-4fb7-99c8-1a60568347de button.colab-df-convert');\n",
              "        buttonEl.style.display =\n",
              "          google.colab.kernel.accessAllowed ? 'block' : 'none';\n",
              "\n",
              "        async function convertToInteractive(key) {\n",
              "          const element = document.querySelector('#df-b881d2d3-de15-4fb7-99c8-1a60568347de');\n",
              "          const dataTable =\n",
              "            await google.colab.kernel.invokeFunction('convertToInteractive',\n",
              "                                                     [key], {});\n",
              "          if (!dataTable) return;\n",
              "\n",
              "          const docLinkHtml = 'Like what you see? Visit the ' +\n",
              "            '<a target=\"_blank\" href=https://colab.research.google.com/notebooks/data_table.ipynb>data table notebook</a>'\n",
              "            + ' to learn more about interactive tables.';\n",
              "          element.innerHTML = '';\n",
              "          dataTable['output_type'] = 'display_data';\n",
              "          await google.colab.output.renderOutput(dataTable, element);\n",
              "          const docLink = document.createElement('div');\n",
              "          docLink.innerHTML = docLinkHtml;\n",
              "          element.appendChild(docLink);\n",
              "        }\n",
              "      </script>\n",
              "    </div>\n",
              "  </div>\n",
              "  "
            ]
          },
          "metadata": {},
          "execution_count": 39
        }
      ]
    },
    {
      "cell_type": "code",
      "source": [
        "data_3"
      ],
      "metadata": {
        "id": "C2F9JCthn_IH",
        "colab": {
          "base_uri": "https://localhost:8080/",
          "height": 895
        },
        "outputId": "20166300-8136-4e9a-c614-5dd2f799280a"
      },
      "execution_count": null,
      "outputs": [
        {
          "output_type": "execute_result",
          "data": {
            "text/plain": [
              "        nama_kabupaten_kota  Jumlah_Penduduk_Miskin\n",
              "0           KABUPATEN BOGOR                  465700\n",
              "1        KABUPATEN SUKABUMI                  175100\n",
              "2         KABUPATEN CIANJUR                  234500\n",
              "3         KABUPATEN BANDUNG                  263600\n",
              "4           KABUPATEN GARUT                  262800\n",
              "5     KABUPATEN TASIKMALAYA                  181500\n",
              "6          KABUPATEN CIAMIS                   91400\n",
              "7        KABUPATEN KUNINGAN                  139200\n",
              "8         KABUPATEN CIREBON                  247900\n",
              "9      KABUPATEN MAJALENGKA                  138200\n",
              "10       KABUPATEN SUMEDANG                  118400\n",
              "11      KABUPATEN INDRAMAYU                  220300\n",
              "12         KABUPATEN SUBANG                  149800\n",
              "13     KABUPATEN PURWAKARTA                   80200\n",
              "14       KABUPATEN KARAWANG                  195400\n",
              "15         KABUPATEN BEKASI                  186300\n",
              "16  KABUPATEN BANDUNG BARAT                  179500\n",
              "17    KABUPATEN PANGANDARAN                   36100\n",
              "18               KOTA BOGOR                   75000\n",
              "19            KOTA SUKABUMI                   25400\n",
              "20             KOTA BANDUNG                  100000\n",
              "21             KOTA CIREBON                   30600\n",
              "22              KOTA BEKASI                  134000\n",
              "23               KOTA DEPOK                   60400\n",
              "24              KOTA CIMAHI                   31600\n",
              "25         KOTA TASIKMALAYA                   86100\n",
              "26            KOTA BANJARAN                   11200"
            ],
            "text/html": [
              "\n",
              "  <div id=\"df-8df5a10b-dff7-4a1a-8dd8-0bd51e5b6c39\">\n",
              "    <div class=\"colab-df-container\">\n",
              "      <div>\n",
              "<style scoped>\n",
              "    .dataframe tbody tr th:only-of-type {\n",
              "        vertical-align: middle;\n",
              "    }\n",
              "\n",
              "    .dataframe tbody tr th {\n",
              "        vertical-align: top;\n",
              "    }\n",
              "\n",
              "    .dataframe thead th {\n",
              "        text-align: right;\n",
              "    }\n",
              "</style>\n",
              "<table border=\"1\" class=\"dataframe\">\n",
              "  <thead>\n",
              "    <tr style=\"text-align: right;\">\n",
              "      <th></th>\n",
              "      <th>nama_kabupaten_kota</th>\n",
              "      <th>Jumlah_Penduduk_Miskin</th>\n",
              "    </tr>\n",
              "  </thead>\n",
              "  <tbody>\n",
              "    <tr>\n",
              "      <th>0</th>\n",
              "      <td>KABUPATEN BOGOR</td>\n",
              "      <td>465700</td>\n",
              "    </tr>\n",
              "    <tr>\n",
              "      <th>1</th>\n",
              "      <td>KABUPATEN SUKABUMI</td>\n",
              "      <td>175100</td>\n",
              "    </tr>\n",
              "    <tr>\n",
              "      <th>2</th>\n",
              "      <td>KABUPATEN CIANJUR</td>\n",
              "      <td>234500</td>\n",
              "    </tr>\n",
              "    <tr>\n",
              "      <th>3</th>\n",
              "      <td>KABUPATEN BANDUNG</td>\n",
              "      <td>263600</td>\n",
              "    </tr>\n",
              "    <tr>\n",
              "      <th>4</th>\n",
              "      <td>KABUPATEN GARUT</td>\n",
              "      <td>262800</td>\n",
              "    </tr>\n",
              "    <tr>\n",
              "      <th>5</th>\n",
              "      <td>KABUPATEN TASIKMALAYA</td>\n",
              "      <td>181500</td>\n",
              "    </tr>\n",
              "    <tr>\n",
              "      <th>6</th>\n",
              "      <td>KABUPATEN CIAMIS</td>\n",
              "      <td>91400</td>\n",
              "    </tr>\n",
              "    <tr>\n",
              "      <th>7</th>\n",
              "      <td>KABUPATEN KUNINGAN</td>\n",
              "      <td>139200</td>\n",
              "    </tr>\n",
              "    <tr>\n",
              "      <th>8</th>\n",
              "      <td>KABUPATEN CIREBON</td>\n",
              "      <td>247900</td>\n",
              "    </tr>\n",
              "    <tr>\n",
              "      <th>9</th>\n",
              "      <td>KABUPATEN MAJALENGKA</td>\n",
              "      <td>138200</td>\n",
              "    </tr>\n",
              "    <tr>\n",
              "      <th>10</th>\n",
              "      <td>KABUPATEN SUMEDANG</td>\n",
              "      <td>118400</td>\n",
              "    </tr>\n",
              "    <tr>\n",
              "      <th>11</th>\n",
              "      <td>KABUPATEN INDRAMAYU</td>\n",
              "      <td>220300</td>\n",
              "    </tr>\n",
              "    <tr>\n",
              "      <th>12</th>\n",
              "      <td>KABUPATEN SUBANG</td>\n",
              "      <td>149800</td>\n",
              "    </tr>\n",
              "    <tr>\n",
              "      <th>13</th>\n",
              "      <td>KABUPATEN PURWAKARTA</td>\n",
              "      <td>80200</td>\n",
              "    </tr>\n",
              "    <tr>\n",
              "      <th>14</th>\n",
              "      <td>KABUPATEN KARAWANG</td>\n",
              "      <td>195400</td>\n",
              "    </tr>\n",
              "    <tr>\n",
              "      <th>15</th>\n",
              "      <td>KABUPATEN BEKASI</td>\n",
              "      <td>186300</td>\n",
              "    </tr>\n",
              "    <tr>\n",
              "      <th>16</th>\n",
              "      <td>KABUPATEN BANDUNG BARAT</td>\n",
              "      <td>179500</td>\n",
              "    </tr>\n",
              "    <tr>\n",
              "      <th>17</th>\n",
              "      <td>KABUPATEN PANGANDARAN</td>\n",
              "      <td>36100</td>\n",
              "    </tr>\n",
              "    <tr>\n",
              "      <th>18</th>\n",
              "      <td>KOTA BOGOR</td>\n",
              "      <td>75000</td>\n",
              "    </tr>\n",
              "    <tr>\n",
              "      <th>19</th>\n",
              "      <td>KOTA SUKABUMI</td>\n",
              "      <td>25400</td>\n",
              "    </tr>\n",
              "    <tr>\n",
              "      <th>20</th>\n",
              "      <td>KOTA BANDUNG</td>\n",
              "      <td>100000</td>\n",
              "    </tr>\n",
              "    <tr>\n",
              "      <th>21</th>\n",
              "      <td>KOTA CIREBON</td>\n",
              "      <td>30600</td>\n",
              "    </tr>\n",
              "    <tr>\n",
              "      <th>22</th>\n",
              "      <td>KOTA BEKASI</td>\n",
              "      <td>134000</td>\n",
              "    </tr>\n",
              "    <tr>\n",
              "      <th>23</th>\n",
              "      <td>KOTA DEPOK</td>\n",
              "      <td>60400</td>\n",
              "    </tr>\n",
              "    <tr>\n",
              "      <th>24</th>\n",
              "      <td>KOTA CIMAHI</td>\n",
              "      <td>31600</td>\n",
              "    </tr>\n",
              "    <tr>\n",
              "      <th>25</th>\n",
              "      <td>KOTA TASIKMALAYA</td>\n",
              "      <td>86100</td>\n",
              "    </tr>\n",
              "    <tr>\n",
              "      <th>26</th>\n",
              "      <td>KOTA BANJARAN</td>\n",
              "      <td>11200</td>\n",
              "    </tr>\n",
              "  </tbody>\n",
              "</table>\n",
              "</div>\n",
              "      <button class=\"colab-df-convert\" onclick=\"convertToInteractive('df-8df5a10b-dff7-4a1a-8dd8-0bd51e5b6c39')\"\n",
              "              title=\"Convert this dataframe to an interactive table.\"\n",
              "              style=\"display:none;\">\n",
              "        \n",
              "  <svg xmlns=\"http://www.w3.org/2000/svg\" height=\"24px\"viewBox=\"0 0 24 24\"\n",
              "       width=\"24px\">\n",
              "    <path d=\"M0 0h24v24H0V0z\" fill=\"none\"/>\n",
              "    <path d=\"M18.56 5.44l.94 2.06.94-2.06 2.06-.94-2.06-.94-.94-2.06-.94 2.06-2.06.94zm-11 1L8.5 8.5l.94-2.06 2.06-.94-2.06-.94L8.5 2.5l-.94 2.06-2.06.94zm10 10l.94 2.06.94-2.06 2.06-.94-2.06-.94-.94-2.06-.94 2.06-2.06.94z\"/><path d=\"M17.41 7.96l-1.37-1.37c-.4-.4-.92-.59-1.43-.59-.52 0-1.04.2-1.43.59L10.3 9.45l-7.72 7.72c-.78.78-.78 2.05 0 2.83L4 21.41c.39.39.9.59 1.41.59.51 0 1.02-.2 1.41-.59l7.78-7.78 2.81-2.81c.8-.78.8-2.07 0-2.86zM5.41 20L4 18.59l7.72-7.72 1.47 1.35L5.41 20z\"/>\n",
              "  </svg>\n",
              "      </button>\n",
              "      \n",
              "  <style>\n",
              "    .colab-df-container {\n",
              "      display:flex;\n",
              "      flex-wrap:wrap;\n",
              "      gap: 12px;\n",
              "    }\n",
              "\n",
              "    .colab-df-convert {\n",
              "      background-color: #E8F0FE;\n",
              "      border: none;\n",
              "      border-radius: 50%;\n",
              "      cursor: pointer;\n",
              "      display: none;\n",
              "      fill: #1967D2;\n",
              "      height: 32px;\n",
              "      padding: 0 0 0 0;\n",
              "      width: 32px;\n",
              "    }\n",
              "\n",
              "    .colab-df-convert:hover {\n",
              "      background-color: #E2EBFA;\n",
              "      box-shadow: 0px 1px 2px rgba(60, 64, 67, 0.3), 0px 1px 3px 1px rgba(60, 64, 67, 0.15);\n",
              "      fill: #174EA6;\n",
              "    }\n",
              "\n",
              "    [theme=dark] .colab-df-convert {\n",
              "      background-color: #3B4455;\n",
              "      fill: #D2E3FC;\n",
              "    }\n",
              "\n",
              "    [theme=dark] .colab-df-convert:hover {\n",
              "      background-color: #434B5C;\n",
              "      box-shadow: 0px 1px 3px 1px rgba(0, 0, 0, 0.15);\n",
              "      filter: drop-shadow(0px 1px 2px rgba(0, 0, 0, 0.3));\n",
              "      fill: #FFFFFF;\n",
              "    }\n",
              "  </style>\n",
              "\n",
              "      <script>\n",
              "        const buttonEl =\n",
              "          document.querySelector('#df-8df5a10b-dff7-4a1a-8dd8-0bd51e5b6c39 button.colab-df-convert');\n",
              "        buttonEl.style.display =\n",
              "          google.colab.kernel.accessAllowed ? 'block' : 'none';\n",
              "\n",
              "        async function convertToInteractive(key) {\n",
              "          const element = document.querySelector('#df-8df5a10b-dff7-4a1a-8dd8-0bd51e5b6c39');\n",
              "          const dataTable =\n",
              "            await google.colab.kernel.invokeFunction('convertToInteractive',\n",
              "                                                     [key], {});\n",
              "          if (!dataTable) return;\n",
              "\n",
              "          const docLinkHtml = 'Like what you see? Visit the ' +\n",
              "            '<a target=\"_blank\" href=https://colab.research.google.com/notebooks/data_table.ipynb>data table notebook</a>'\n",
              "            + ' to learn more about interactive tables.';\n",
              "          element.innerHTML = '';\n",
              "          dataTable['output_type'] = 'display_data';\n",
              "          await google.colab.output.renderOutput(dataTable, element);\n",
              "          const docLink = document.createElement('div');\n",
              "          docLink.innerHTML = docLinkHtml;\n",
              "          element.appendChild(docLink);\n",
              "        }\n",
              "      </script>\n",
              "    </div>\n",
              "  </div>\n",
              "  "
            ]
          },
          "metadata": {},
          "execution_count": 45
        }
      ]
    },
    {
      "cell_type": "code",
      "source": [
        "ds1=pd.merge(jml_n, data_3, how='left', on='nama_kabupaten_kota')\n",
        "dataset=pd.merge(ds1, jml_balita, how='left', on='nama_kabupaten_kota' )\n",
        "dataset_baru=dataset.fillna(11.0)\n",
        "dataset_baru.head()"
      ],
      "metadata": {
        "id": "DwGt6FTmSLRl",
        "colab": {
          "base_uri": "https://localhost:8080/",
          "height": 206
        },
        "outputId": "f25eaf72-d507-43d4-e172-bb112d67ff3a"
      },
      "execution_count": null,
      "outputs": [
        {
          "output_type": "execute_result",
          "data": {
            "text/plain": [
              "  nama_kabupaten_kota  jumlah_nakes_gizi  Jumlah_Penduduk_Miskin  \\\n",
              "0     KABUPATEN BOGOR                118                465700.0   \n",
              "1  KABUPATEN SUKABUMI                 64                175100.0   \n",
              "2   KABUPATEN CIANJUR                 11                234500.0   \n",
              "3   KABUPATEN BANDUNG                 36                263600.0   \n",
              "4     KABUPATEN GARUT                 50                262800.0   \n",
              "\n",
              "   jumlah_balita  \n",
              "0        21322.0  \n",
              "1         8838.0  \n",
              "2         9069.0  \n",
              "3        13728.0  \n",
              "4         9128.0  "
            ],
            "text/html": [
              "\n",
              "  <div id=\"df-d4b9a26d-90ee-402b-bc81-862c510305cd\">\n",
              "    <div class=\"colab-df-container\">\n",
              "      <div>\n",
              "<style scoped>\n",
              "    .dataframe tbody tr th:only-of-type {\n",
              "        vertical-align: middle;\n",
              "    }\n",
              "\n",
              "    .dataframe tbody tr th {\n",
              "        vertical-align: top;\n",
              "    }\n",
              "\n",
              "    .dataframe thead th {\n",
              "        text-align: right;\n",
              "    }\n",
              "</style>\n",
              "<table border=\"1\" class=\"dataframe\">\n",
              "  <thead>\n",
              "    <tr style=\"text-align: right;\">\n",
              "      <th></th>\n",
              "      <th>nama_kabupaten_kota</th>\n",
              "      <th>jumlah_nakes_gizi</th>\n",
              "      <th>Jumlah_Penduduk_Miskin</th>\n",
              "      <th>jumlah_balita</th>\n",
              "    </tr>\n",
              "  </thead>\n",
              "  <tbody>\n",
              "    <tr>\n",
              "      <th>0</th>\n",
              "      <td>KABUPATEN BOGOR</td>\n",
              "      <td>118</td>\n",
              "      <td>465700.0</td>\n",
              "      <td>21322.0</td>\n",
              "    </tr>\n",
              "    <tr>\n",
              "      <th>1</th>\n",
              "      <td>KABUPATEN SUKABUMI</td>\n",
              "      <td>64</td>\n",
              "      <td>175100.0</td>\n",
              "      <td>8838.0</td>\n",
              "    </tr>\n",
              "    <tr>\n",
              "      <th>2</th>\n",
              "      <td>KABUPATEN CIANJUR</td>\n",
              "      <td>11</td>\n",
              "      <td>234500.0</td>\n",
              "      <td>9069.0</td>\n",
              "    </tr>\n",
              "    <tr>\n",
              "      <th>3</th>\n",
              "      <td>KABUPATEN BANDUNG</td>\n",
              "      <td>36</td>\n",
              "      <td>263600.0</td>\n",
              "      <td>13728.0</td>\n",
              "    </tr>\n",
              "    <tr>\n",
              "      <th>4</th>\n",
              "      <td>KABUPATEN GARUT</td>\n",
              "      <td>50</td>\n",
              "      <td>262800.0</td>\n",
              "      <td>9128.0</td>\n",
              "    </tr>\n",
              "  </tbody>\n",
              "</table>\n",
              "</div>\n",
              "      <button class=\"colab-df-convert\" onclick=\"convertToInteractive('df-d4b9a26d-90ee-402b-bc81-862c510305cd')\"\n",
              "              title=\"Convert this dataframe to an interactive table.\"\n",
              "              style=\"display:none;\">\n",
              "        \n",
              "  <svg xmlns=\"http://www.w3.org/2000/svg\" height=\"24px\"viewBox=\"0 0 24 24\"\n",
              "       width=\"24px\">\n",
              "    <path d=\"M0 0h24v24H0V0z\" fill=\"none\"/>\n",
              "    <path d=\"M18.56 5.44l.94 2.06.94-2.06 2.06-.94-2.06-.94-.94-2.06-.94 2.06-2.06.94zm-11 1L8.5 8.5l.94-2.06 2.06-.94-2.06-.94L8.5 2.5l-.94 2.06-2.06.94zm10 10l.94 2.06.94-2.06 2.06-.94-2.06-.94-.94-2.06-.94 2.06-2.06.94z\"/><path d=\"M17.41 7.96l-1.37-1.37c-.4-.4-.92-.59-1.43-.59-.52 0-1.04.2-1.43.59L10.3 9.45l-7.72 7.72c-.78.78-.78 2.05 0 2.83L4 21.41c.39.39.9.59 1.41.59.51 0 1.02-.2 1.41-.59l7.78-7.78 2.81-2.81c.8-.78.8-2.07 0-2.86zM5.41 20L4 18.59l7.72-7.72 1.47 1.35L5.41 20z\"/>\n",
              "  </svg>\n",
              "      </button>\n",
              "      \n",
              "  <style>\n",
              "    .colab-df-container {\n",
              "      display:flex;\n",
              "      flex-wrap:wrap;\n",
              "      gap: 12px;\n",
              "    }\n",
              "\n",
              "    .colab-df-convert {\n",
              "      background-color: #E8F0FE;\n",
              "      border: none;\n",
              "      border-radius: 50%;\n",
              "      cursor: pointer;\n",
              "      display: none;\n",
              "      fill: #1967D2;\n",
              "      height: 32px;\n",
              "      padding: 0 0 0 0;\n",
              "      width: 32px;\n",
              "    }\n",
              "\n",
              "    .colab-df-convert:hover {\n",
              "      background-color: #E2EBFA;\n",
              "      box-shadow: 0px 1px 2px rgba(60, 64, 67, 0.3), 0px 1px 3px 1px rgba(60, 64, 67, 0.15);\n",
              "      fill: #174EA6;\n",
              "    }\n",
              "\n",
              "    [theme=dark] .colab-df-convert {\n",
              "      background-color: #3B4455;\n",
              "      fill: #D2E3FC;\n",
              "    }\n",
              "\n",
              "    [theme=dark] .colab-df-convert:hover {\n",
              "      background-color: #434B5C;\n",
              "      box-shadow: 0px 1px 3px 1px rgba(0, 0, 0, 0.15);\n",
              "      filter: drop-shadow(0px 1px 2px rgba(0, 0, 0, 0.3));\n",
              "      fill: #FFFFFF;\n",
              "    }\n",
              "  </style>\n",
              "\n",
              "      <script>\n",
              "        const buttonEl =\n",
              "          document.querySelector('#df-d4b9a26d-90ee-402b-bc81-862c510305cd button.colab-df-convert');\n",
              "        buttonEl.style.display =\n",
              "          google.colab.kernel.accessAllowed ? 'block' : 'none';\n",
              "\n",
              "        async function convertToInteractive(key) {\n",
              "          const element = document.querySelector('#df-d4b9a26d-90ee-402b-bc81-862c510305cd');\n",
              "          const dataTable =\n",
              "            await google.colab.kernel.invokeFunction('convertToInteractive',\n",
              "                                                     [key], {});\n",
              "          if (!dataTable) return;\n",
              "\n",
              "          const docLinkHtml = 'Like what you see? Visit the ' +\n",
              "            '<a target=\"_blank\" href=https://colab.research.google.com/notebooks/data_table.ipynb>data table notebook</a>'\n",
              "            + ' to learn more about interactive tables.';\n",
              "          element.innerHTML = '';\n",
              "          dataTable['output_type'] = 'display_data';\n",
              "          await google.colab.output.renderOutput(dataTable, element);\n",
              "          const docLink = document.createElement('div');\n",
              "          docLink.innerHTML = docLinkHtml;\n",
              "          element.appendChild(docLink);\n",
              "        }\n",
              "      </script>\n",
              "    </div>\n",
              "  </div>\n",
              "  "
            ]
          },
          "metadata": {},
          "execution_count": 46
        }
      ]
    },
    {
      "cell_type": "code",
      "source": [
        "plt.figure()\n",
        "sns.heatmap(dataset_baru.corr(), annot=True)\n",
        "plt.title('Plot correlation matriks dengan sns.heatmap', size=14)\n",
        "plt.tight_layout()\n",
        "plt.show()"
      ],
      "metadata": {
        "colab": {
          "base_uri": "https://localhost:8080/",
          "height": 241
        },
        "id": "twZHYSuqXWlG",
        "outputId": "9b059a60-8cda-4e35-ba1d-89afe8370289"
      },
      "execution_count": null,
      "outputs": [
        {
          "output_type": "display_data",
          "data": {
            "text/plain": [
              "<Figure size 2520x360 with 2 Axes>"
            ],
            "image/png": "[encoded data removed]"
          },
          "metadata": {
            "needs_background": "light"
          }
        }
      ]
    },
    {
      "cell_type": "markdown",
      "source": [
        "Dari hasil plot diatas 'jumlah penduduk miskin' dengan 'jumlah balita gizi' buruk ternyata memiliki hubungan yang kuat yaitu sebesar 88% sehingga model dilakukan berdasarkan kriteria tersebut"
      ],
      "metadata": {
        "id": "XtBVwyXExk5H"
      }
    },
    {
      "cell_type": "code",
      "source": [
        "plt.rcParams['figure.figsize'] = (35,5)\n",
        "plt.subplot(1, 2, 1)\n",
        "sns.swarmplot(x='Jumlah_Penduduk_Miskin',y='jumlah_balita', color='blue',data=dataset_baru)\n",
        "plt.xlabel('Jumlah Penduduk Miskin', size=14)\n",
        "plt.ylabel('Jumlah Balita Gizi Buruk', size=14)\n",
        "plt.grid(True)\n",
        "plt.show()"
      ],
      "metadata": {
        "id": "4A-r8RaJXshP",
        "colab": {
          "base_uri": "https://localhost:8080/",
          "height": 337
        },
        "outputId": "16859799-512b-43e4-dee5-8257ea3ba874"
      },
      "execution_count": null,
      "outputs": [
        {
          "output_type": "display_data",
          "data": {
            "text/plain": [
              "<Figure size 2520x360 with 1 Axes>"
            ],
            "image/png": "[encoded data removed]"
          },
          "metadata": {
            "needs_background": "light"
          }
        }
      ]
    },
    {
      "cell_type": "markdown",
      "source": [
        "Selanjutanya saya melakukan uji normalitas untuk mengetahui apakah data terdistribusi normal atau tidak, karena ini berpengaruh pada model yang akan ditentukan nantinya."
      ],
      "metadata": {
        "id": "M5cMkK06yG_s"
      }
    },
    {
      "cell_type": "code",
      "source": [
        "jmll=jml_balita[['jumlah_balita']].to_numpy()\n",
        "print('Nilai Kurtosis:',kurtosis(jmll,axis=0,bias=True))\n",
        "print('Nilai skewnees:',skew(jmll,axis=0,bias=True))\n",
        "print('Nilai Shapiro:',shapiro(jmll))\n"
      ],
      "metadata": {
        "colab": {
          "base_uri": "https://localhost:8080/"
        },
        "id": "DeHqimVJ3Wi5",
        "outputId": "ee7a4127-720a-4092-adb5-af1c08f384fe"
      },
      "execution_count": null,
      "outputs": [
        {
          "output_type": "stream",
          "name": "stdout",
          "text": [
            "Nilai Kurtosis: [2.1751475]\n",
            "Nilai skewnees: [1.43520495]\n",
            "Nilai Shapiro: (0.8779148459434509, 0.004332072101533413)\n"
          ]
        }
      ]
    },
    {
      "cell_type": "code",
      "source": [
        "jmlp=jmlp_M[['Jumlah_Penduduk_Miskin']].to_numpy()\n",
        "print('Nilai Kurtosis:',kurtosis(jmlp,axis=0,bias=True))\n",
        "print('Nilai skewnees:',skew(jmlp,axis=0,bias=True))\n",
        "print('Nilai Shapiro:',shapiro(jmlp))"
      ],
      "metadata": {
        "colab": {
          "base_uri": "https://localhost:8080/"
        },
        "id": "C08dSTBa2g_I",
        "outputId": "36aaba89-aa04-4faf-f5f7-ce41c51090cc"
      },
      "execution_count": null,
      "outputs": [
        {
          "output_type": "stream",
          "name": "stdout",
          "text": [
            "Nilai Kurtosis: [1.97763019]\n",
            "Nilai skewnees: [1.13590744]\n",
            "Nilai Shapiro: (0.9130257368087769, 0.026899760589003563)\n"
          ]
        }
      ]
    },
    {
      "cell_type": "code",
      "source": [
        "plt.rcParams['figure.figsize'] = (35,5)\n",
        "plt.subplot(1, 2, 1)\n",
        "sns.kdeplot(x='Jumlah_Penduduk_Miskin',color='blue',data=dataset_baru)\n",
        "plt.title('Distribusi Jumlah Penduduk Miskin', size=20, color='red')\n",
        "plt.grid(True)\n",
        "plt.show()"
      ],
      "metadata": {
        "colab": {
          "base_uri": "https://localhost:8080/",
          "height": 355
        },
        "id": "7ZMFAtKxcb_x",
        "outputId": "1a8ae92e-5179-4ae3-961c-000023d7c237"
      },
      "execution_count": null,
      "outputs": [
        {
          "output_type": "display_data",
          "data": {
            "text/plain": [
              "<Figure size 2520x360 with 1 Axes>"
            ],
            "image/png": "[encoded data removed]"
          },
          "metadata": {
            "needs_background": "light"
          }
        }
      ]
    },
    {
      "cell_type": "code",
      "source": [
        "plt.rcParams['figure.figsize'] = (35,5)\n",
        "plt.subplot(1, 2, 1)\n",
        "sns.kdeplot(x='jumlah_balita',color='blue',data=dataset_baru)\n",
        "plt.title('Distribusi Jumlah Balita Gizi Buruk', size=20, color='red')\n",
        "plt.grid(True)\n",
        "plt.show()"
      ],
      "metadata": {
        "colab": {
          "base_uri": "https://localhost:8080/",
          "height": 355
        },
        "id": "jX-UowuSguu3",
        "outputId": "e26c9639-6081-4e4e-90a5-762c24d097f7"
      },
      "execution_count": null,
      "outputs": [
        {
          "output_type": "display_data",
          "data": {
            "text/plain": [
              "<Figure size 2520x360 with 1 Axes>"
            ],
            "image/png": "[encoded data removed]"
          },
          "metadata": {
            "needs_background": "light"
          }
        }
      ]
    },
    {
      "cell_type": "markdown",
      "source": [
        "Dari hasil analisi di atas ternyata data tidak terdistribusi normal namun bisa dapat dilakukan transformasi, dari hasil plot terlihat distribusi moderate positive skewnes, sehingga dapat dengan fungsi sqrt() agar data terdistribusi normal"
      ],
      "metadata": {
        "id": "zu28tP1JyYcW"
      }
    },
    {
      "cell_type": "code",
      "source": [
        "def tfakar(x):\n",
        "  for akar in x:\n",
        "    hitung=math.sqrt(akar)\n",
        "    print(float(hitung))\n",
        "  return"
      ],
      "metadata": {
        "id": "kptke_3AFco3"
      },
      "execution_count": null,
      "outputs": []
    },
    {
      "cell_type": "code",
      "source": [
        "tfakar(jmll)"
      ],
      "metadata": {
        "id": "JGobdcIzGUbX",
        "colab": {
          "base_uri": "https://localhost:8080/"
        },
        "outputId": "dbb9050c-5b5e-404f-9028-8fbbfaf9d1a7"
      },
      "execution_count": null,
      "outputs": [
        {
          "output_type": "stream",
          "name": "stdout",
          "text": [
            "146.0205464994567\n",
            "94.01063769595439\n",
            "95.23129737644027\n",
            "117.16654812701448\n",
            "95.5405672999695\n",
            "96.30680142129111\n",
            "69.35416353759881\n",
            "65.30696746902278\n",
            "125.44720004846661\n",
            "67.446274915669\n",
            "76.05261336732617\n",
            "72.2357252334328\n",
            "54.56189146281496\n",
            "51.45872132107443\n",
            "68.16890786861705\n",
            "81.99390221229869\n",
            "78.29431652425353\n",
            "12.68857754044952\n",
            "53.99073994677235\n",
            "36.51027252705737\n",
            "88.93818077743664\n",
            "46.357307945997036\n",
            "90.70832376358854\n",
            "77.12327793863537\n",
            "49.90991885387112\n",
            "61.13918547053109\n",
            "32.95451410656816\n"
          ]
        }
      ]
    },
    {
      "cell_type": "code",
      "source": [
        "tfjmll=[146.0205464994567,\n",
        "94.01063769595439,\n",
        "95.23129737644027,\n",
        "117.16654812701448,\n",
        "95.5405672999695,\n",
        "96.30680142129111,\n",
        "69.35416353759881,\n",
        "65.30696746902278,\n",
        "125.44720004846661,\n",
        "67.446274915669,\n",
        "76.05261336732617,\n",
        "72.2357252334328,\n",
        "54.56189146281496,\n",
        "51.45872132107443,\n",
        "68.16890786861705,\n",
        "81.99390221229869,\n",
        "78.29431652425353,\n",
        "12.68857754044952,\n",
        "53.99073994677235,\n",
        "36.51027252705737,\n",
        "88.93818077743664,\n",
        "46.357307945997036,\n",
        "90.70832376358854,\n",
        "77.12327793863537,\n",
        "49.90991885387112,\n",
        "61.13918547053109,\n",
        "32.95451410656816]"
      ],
      "metadata": {
        "id": "mi2-CnoRZSrN"
      },
      "execution_count": null,
      "outputs": []
    },
    {
      "cell_type": "code",
      "source": [
        "tfakar(jmlp)"
      ],
      "metadata": {
        "id": "Hnl-jS3LWKjA",
        "colab": {
          "base_uri": "https://localhost:8080/"
        },
        "outputId": "fd66bea5-09d0-4aeb-da08-e3aaa57142bf"
      },
      "execution_count": null,
      "outputs": [
        {
          "output_type": "stream",
          "name": "stdout",
          "text": [
            "21.587033144922902\n",
            "13.228756555322953\n",
            "15.297058540778355\n",
            "16.24807680927192\n",
            "16.217274740226856\n",
            "13.490737563232042\n",
            "9.539392014169456\n",
            "11.789826122551595\n",
            "15.748015748023622\n",
            "11.74734012447073\n",
            "10.862780491200215\n",
            "14.832396974191326\n",
            "12.24744871391589\n",
            "8.94427190999916\n",
            "13.96424004376894\n",
            "13.638181696985855\n",
            "13.416407864998739\n",
            "6.0\n",
            "8.660254037844387\n",
            "5.0\n",
            "10.0\n",
            "5.5677643628300215\n",
            "11.575836902790225\n",
            "7.745966692414834\n",
            "5.656854249492381\n",
            "9.273618495495704\n",
            "3.3166247903554\n"
          ]
        }
      ]
    },
    {
      "cell_type": "code",
      "source": [
        "tfjmlp=[21.587033144922902,\n",
        "13.228756555322953,\n",
        "15.297058540778355,\n",
        "16.24807680927192,\n",
        "16.217274740226856,\n",
        "13.490737563232042,\n",
        "9.539392014169456,\n",
        "11.789826122551595,\n",
        "15.748015748023622,\n",
        "11.74734012447073,\n",
        "10.862780491200215,\n",
        "14.832396974191326,\n",
        "12.24744871391589,\n",
        "8.94427190999916,\n",
        "13.96424004376894,\n",
        "13.638181696985855,\n",
        "13.416407864998739,\n",
        "6.0,\n",
        "8.660254037844387,\n",
        "5.0,\n",
        "10.0,\n",
        "5.5677643628300215,\n",
        "11.575836902790225,\n",
        "7.745966692414834,\n",
        "5.656854249492381,\n",
        "9.273618495495704,\n",
        "3.3166247903554]"
      ],
      "metadata": {
        "id": "fi7CPudjaOni"
      },
      "execution_count": null,
      "outputs": []
    },
    {
      "cell_type": "markdown",
      "source": [
        "Setelah dilakukan transformasi selanjutnya melakukan uji normalitas kembali"
      ],
      "metadata": {
        "id": "0q7tNSeQzDdI"
      }
    },
    {
      "cell_type": "code",
      "source": [
        "plt.rcParams['figure.figsize'] = (35,5)\n",
        "plt.subplot(1, 2, 1)\n",
        "sns.kdeplot(x=tfjmlp,  color='blue', shade=True)\n",
        "plt.title('Distribusi Jumlah Penduduk Miskin', size=20, color='red')\n",
        "plt.grid(True)\n",
        "plt.show()"
      ],
      "metadata": {
        "colab": {
          "base_uri": "https://localhost:8080/",
          "height": 341
        },
        "id": "n5BDKVx2aPMw",
        "outputId": "72c0600b-1b36-406e-e7e3-2bbafe8f3f55"
      },
      "execution_count": null,
      "outputs": [
        {
          "output_type": "display_data",
          "data": {
            "text/plain": [
              "<Figure size 2520x360 with 1 Axes>"
            ],
            "image/png": "[encoded data removed]"
          },
          "metadata": {
            "needs_background": "light"
          }
        }
      ]
    },
    {
      "cell_type": "code",
      "source": [
        "plt.rcParams['figure.figsize'] = (35,5)\n",
        "plt.subplot(1, 2, 1)\n",
        "sns.kdeplot(x=tfjmll,  color='blue', shade=True)\n",
        "plt.title('Distribusi Jumlah Balita Gizi Buruk', size=20, color='red')\n",
        "plt.grid(True)\n",
        "plt.show()"
      ],
      "metadata": {
        "colab": {
          "base_uri": "https://localhost:8080/",
          "height": 341
        },
        "id": "OLZqCVCqesP4",
        "outputId": "eb67b379-273a-4043-a8c6-b4131593238b"
      },
      "execution_count": null,
      "outputs": [
        {
          "output_type": "display_data",
          "data": {
            "text/plain": [
              "<Figure size 2520x360 with 1 Axes>"
            ],
            "image/png": "[encoded data removed]"
          },
          "metadata": {
            "needs_background": "light"
          }
        }
      ]
    },
    {
      "cell_type": "code",
      "source": [
        "print('Nilai distribusi jumlah penduduk miskin')\n",
        "print('Nilai Kurtosis:',kurtosis(tfjmlp,axis=0,bias=True))\n",
        "print('Nilai skewnees:',skew(tfjmlp,axis=0,bias=True))\n",
        "print('Nilai Shapiro:',shapiro(tfjmlp))"
      ],
      "metadata": {
        "colab": {
          "base_uri": "https://localhost:8080/"
        },
        "id": "OTo_IYq4qQIX",
        "outputId": "083e8ea2-cc63-4e6c-b85f-ce71a43bd85d"
      },
      "execution_count": null,
      "outputs": [
        {
          "output_type": "stream",
          "name": "stdout",
          "text": [
            "Nilai distribusi jumlah penduduk miskin\n",
            "Nilai Kurtosis: -0.18230005596706356\n",
            "Nilai skewnees: 0.10051884656544904\n",
            "Nilai Shapiro: (0.977354884147644, 0.7983607053756714)\n"
          ]
        }
      ]
    },
    {
      "cell_type": "code",
      "source": [
        "print('Nilai distribusi jumlah balita')\n",
        "print('Nilai Kurtosis:',kurtosis(tfjmll,axis=0,bias=True))\n",
        "print('Nilai skewnees:',skew(tfjmll,axis=0,bias=True))\n",
        "print('Nilai Shapiro:',shapiro(tfjmll))"
      ],
      "metadata": {
        "colab": {
          "base_uri": "https://localhost:8080/"
        },
        "id": "n64-sUQgqDA9",
        "outputId": "3a00d76d-23b8-4d48-de23-250f82d6e874"
      },
      "execution_count": null,
      "outputs": [
        {
          "output_type": "stream",
          "name": "stdout",
          "text": [
            "Nilai distribusi jumlah balita\n",
            "Nilai Kurtosis: 0.2893522058181399\n",
            "Nilai skewnees: 0.3248540911883762\n",
            "Nilai Shapiro: (0.9829116463661194, 0.9213371276855469)\n"
          ]
        }
      ]
    },
    {
      "cell_type": "markdown",
      "source": [
        "Hasilnya ternyata terdistribusi normal untuk kedua data, sehingga saya mencoba untuk melakukan model linear regresi sederhana"
      ],
      "metadata": {
        "id": "Y_txFV-tzNT2"
      }
    },
    {
      "cell_type": "code",
      "source": [
        "X = np.array(tfjmlp)\n",
        "y = np.array(tfjmll)\n",
        "X = X.reshape(-1,1)\n",
        "y"
      ],
      "metadata": {
        "colab": {
          "base_uri": "https://localhost:8080/"
        },
        "id": "uENa34GRhR6a",
        "outputId": "480eb378-4fcd-4ad4-ea9d-7709a8440509"
      },
      "execution_count": null,
      "outputs": [
        {
          "output_type": "execute_result",
          "data": {
            "text/plain": [
              "array([146.0205465 ,  94.0106377 ,  95.23129738, 117.16654813,\n",
              "        95.5405673 ,  96.30680142,  69.35416354,  65.30696747,\n",
              "       125.44720005,  67.44627492,  76.05261337,  72.23572523,\n",
              "        54.56189146,  51.45872132,  68.16890787,  81.99390221,\n",
              "        78.29431652,  12.68857754,  53.99073995,  36.51027253,\n",
              "        88.93818078,  46.35730795,  90.70832376,  77.12327794,\n",
              "        49.90991885,  61.13918547,  32.95451411])"
            ]
          },
          "metadata": {},
          "execution_count": 30
        }
      ]
    },
    {
      "cell_type": "code",
      "source": [
        "from sklearn.model_selection import train_test_split\n",
        "X_train, X_test, y_train, y_test = train_test_split(X, y, test_size = 0.25, random_state = 0)\n",
        "\n",
        "from sklearn.linear_model import LinearRegression\n",
        "model = LinearRegression()\n",
        "modfit=model.fit(X,y)\n",
        "\n",
        "print('Nilai Slope:', modfit.coef_)\n",
        "print('Nilai intercept:',modfit.intercept_)\n",
        "print('Hasil Anova:',f_oneway(tfjmll,tfjmlp))\n",
        "# evaluating the model\n",
        "print('Training Accuracy :', model.score(X_train, y_train))\n",
        "print('Testing Accuracy :', model.score(X_test, y_test))\n"
      ],
      "metadata": {
        "colab": {
          "base_uri": "https://localhost:8080/"
        },
        "id": "qvc19dqYI2ed",
        "outputId": "df4cc7c1-07a7-4409-bb5c-3213e86084f8"
      },
      "execution_count": null,
      "outputs": [
        {
          "output_type": "stream",
          "name": "stdout",
          "text": [
            "Nilai Slope: [5.95113552]\n",
            "Nilai intercept: 6.899008401643485\n",
            "Hasil Anova: F_onewayResult(statistic=124.19787138632763, pvalue=2.160512288940632e-15)\n",
            "Training Accuracy : 0.8191879072337898\n",
            "Testing Accuracy : 0.4714269458920941\n"
          ]
        }
      ]
    },
    {
      "cell_type": "markdown",
      "source": [
        "Dari hasil di atas nilai Slope dan Intercept digunakan sebagai persamaan linear regresi, pada hasil Anova ternyata nilai pvalue > 0.05 hal ini indikasi sebagai model kurang baik, terlihat dari hasil Testing Accuracy sebesar 47%"
      ],
      "metadata": {
        "id": "GAEfFrJlz7MY"
      }
    },
    {
      "cell_type": "code",
      "source": [
        "X_vis = np.array([0,25]).reshape(-1,1)\n",
        "y_vis = modfit.predict(X_vis)\n",
        "\n",
        "plt.rcParams['figure.figsize'] = (35,5)\n",
        "plt.subplot(1, 2, 1)\n",
        "plt.scatter(X,y)\n",
        "plt.plot(X_vis, y_vis, '-r')\n",
        "plt.title('Perbandingan Jumlah Penduduk Miskin dengan Jumlah Balita Gizi Buruk', size=14)\n",
        "plt.xlabel('Jumlah Balita Gizi Buruk')\n",
        "plt.ylabel('Jumlah Penduduk Miskin')\n",
        "plt.show()"
      ],
      "metadata": {
        "colab": {
          "base_uri": "https://localhost:8080/",
          "height": 351
        },
        "id": "bxt-sscrkkTj",
        "outputId": "2c85db34-eaa7-4365-e077-e844824a9eb6"
      },
      "execution_count": null,
      "outputs": [
        {
          "output_type": "display_data",
          "data": {
            "text/plain": [
              "<Figure size 2520x360 with 1 Axes>"
            ],
            "image/png": "[encoded data removed]"
          },
          "metadata": {
            "needs_background": "light"
          }
        }
      ]
    },
    {
      "cell_type": "code",
      "source": [
        "intercept = modfit.intercept_\n",
        "slope = modfit.coef_\n",
        "def myfunc(x):\n",
        "  return slope * x + intercept\n",
        "myfunc(21.58703314)\n"
      ],
      "metadata": {
        "colab": {
          "base_uri": "https://localhost:8080/"
        },
        "id": "yUuwpuZuliIZ",
        "outputId": "b58e9a3e-a80d-4d50-a699-609d656d415d"
      },
      "execution_count": null,
      "outputs": [
        {
          "output_type": "execute_result",
          "data": {
            "text/plain": [
              "array([135.36636811])"
            ]
          },
          "metadata": {},
          "execution_count": 53
        }
      ]
    },
    {
      "cell_type": "markdown",
      "source": [
        "Kesimpulan\n",
        "Terdapat hubungan yang kuat antara data jumlah penduduk miskin dan jumlah balita gizi buruk sebesar 88%, dan data sebenarnya sudah memenuhi syarat linearitas namun model linear regresi sederhana dirasa kurang cukup efektif terhadap hasil prediksi dan berakibat nilai error yang besar.\n",
        "\n",
        "Sehingga perlu adanya uji model yang lain agar mendapatkan hasil yang efektif "
      ],
      "metadata": {
        "id": "RPrIinAC1DXu"
      }
    },
    {
      "cell_type": "code",
      "source": [
        ""
      ],
      "metadata": {
        "id": "Wj5SrIy9nze0"
      },
      "execution_count": null,
      "outputs": []
    }
  ],
  "metadata": {
    "colab": {
      "collapsed_sections": [],
      "name": "data nakes gizi dan jumlah penduduk jawabarat",
      "provenance": [],
      "include_colab_link": true
    },
    "kernelspec": {
      "display_name": "Python 3",
      "name": "python3"
    }
  },
  "nbformat": 4,
  "nbformat_minor": 0
}