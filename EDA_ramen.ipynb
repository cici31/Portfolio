{
  "nbformat": 4,
  "nbformat_minor": 0,
  "metadata": {
    "colab": {
      "provenance": [],
      "authorship_tag": "ABX9TyODboyE9xKHmyVXfHF02vo0",
      "include_colab_link": true
    },
    "kernelspec": {
      "name": "python3",
      "display_name": "Python 3"
    },
    "language_info": {
      "name": "python"
    }
  },
  "cells": [
    {
      "cell_type": "markdown",
      "metadata": {
        "id": "view-in-github",
        "colab_type": "text"
      },
      "source": [
        "<a href=\"https://colab.research.google.com/github/cici31/Portfolio/blob/main/EDA_ramen.ipynb\" target=\"_parent\"><img src=\"https://colab.research.google.com/assets/colab-badge.svg\" alt=\"Open In Colab\"/></a>"
      ]
    },
    {
      "cell_type": "code",
      "source": [
        "from google.colab import drive\n",
        "drive.mount('/content/drive')"
      ],
      "metadata": {
        "colab": {
          "base_uri": "https://localhost:8080/"
        },
        "id": "UznNElCvCBlZ",
        "outputId": "e00511ad-1a88-4054-bf7b-3a62b1e42581"
      },
      "execution_count": 69,
      "outputs": [
        {
          "output_type": "stream",
          "name": "stdout",
          "text": [
            "Drive already mounted at /content/drive; to attempt to forcibly remount, call drive.mount(\"/content/drive\", force_remount=True).\n"
          ]
        }
      ]
    },
    {
      "cell_type": "code",
      "source": [
        "#importing beberapa paket yang penting\n",
        "import numpy as np #linear aljabar\n",
        "import pandas as pd #data processing\n",
        "import matplotlib.pyplot as plt #data visualisation\n",
        "import seaborn as sns #data visualisation\n",
        "%matplotlib inline"
      ],
      "metadata": {
        "id": "4gNzQ3YhCO1u"
      },
      "execution_count": 70,
      "outputs": []
    },
    {
      "cell_type": "code",
      "source": [
        "data = pd.read_csv('/content/drive/MyDrive/Colab Notebooks/ramen-ratings.csv') #mengambil data\n",
        "data.head()"
      ],
      "metadata": {
        "id": "exg6Iw6PClRU",
        "colab": {
          "base_uri": "https://localhost:8080/",
          "height": 206
        },
        "outputId": "737667b7-4a2c-4998-8158-7acb2b9e4b89"
      },
      "execution_count": 71,
      "outputs": [
        {
          "output_type": "execute_result",
          "data": {
            "text/plain": [
              "   Review #           Brand  \\\n",
              "0      2580       New Touch   \n",
              "1      2579        Just Way   \n",
              "2      2578          Nissin   \n",
              "3      2577         Wei Lih   \n",
              "4      2576  Ching's Secret   \n",
              "\n",
              "                                             Variety Style Country Stars  \\\n",
              "0                          T's Restaurant Tantanmen    Cup   Japan  3.75   \n",
              "1  Noodles Spicy Hot Sesame Spicy Hot Sesame Guan...  Pack  Taiwan     1   \n",
              "2                      Cup Noodles Chicken Vegetable   Cup     USA  2.25   \n",
              "3                      GGE Ramen Snack Tomato Flavor  Pack  Taiwan  2.75   \n",
              "4                                    Singapore Curry  Pack   India  3.75   \n",
              "\n",
              "  Top Ten  \n",
              "0     NaN  \n",
              "1     NaN  \n",
              "2     NaN  \n",
              "3     NaN  \n",
              "4     NaN  "
            ],
            "text/html": [
              "\n",
              "  <div id=\"df-95205550-eea3-4e05-aeae-bf0139f981e8\">\n",
              "    <div class=\"colab-df-container\">\n",
              "      <div>\n",
              "<style scoped>\n",
              "    .dataframe tbody tr th:only-of-type {\n",
              "        vertical-align: middle;\n",
              "    }\n",
              "\n",
              "    .dataframe tbody tr th {\n",
              "        vertical-align: top;\n",
              "    }\n",
              "\n",
              "    .dataframe thead th {\n",
              "        text-align: right;\n",
              "    }\n",
              "</style>\n",
              "<table border=\"1\" class=\"dataframe\">\n",
              "  <thead>\n",
              "    <tr style=\"text-align: right;\">\n",
              "      <th></th>\n",
              "      <th>Review #</th>\n",
              "      <th>Brand</th>\n",
              "      <th>Variety</th>\n",
              "      <th>Style</th>\n",
              "      <th>Country</th>\n",
              "      <th>Stars</th>\n",
              "      <th>Top Ten</th>\n",
              "    </tr>\n",
              "  </thead>\n",
              "  <tbody>\n",
              "    <tr>\n",
              "      <th>0</th>\n",
              "      <td>2580</td>\n",
              "      <td>New Touch</td>\n",
              "      <td>T's Restaurant Tantanmen</td>\n",
              "      <td>Cup</td>\n",
              "      <td>Japan</td>\n",
              "      <td>3.75</td>\n",
              "      <td>NaN</td>\n",
              "    </tr>\n",
              "    <tr>\n",
              "      <th>1</th>\n",
              "      <td>2579</td>\n",
              "      <td>Just Way</td>\n",
              "      <td>Noodles Spicy Hot Sesame Spicy Hot Sesame Guan...</td>\n",
              "      <td>Pack</td>\n",
              "      <td>Taiwan</td>\n",
              "      <td>1</td>\n",
              "      <td>NaN</td>\n",
              "    </tr>\n",
              "    <tr>\n",
              "      <th>2</th>\n",
              "      <td>2578</td>\n",
              "      <td>Nissin</td>\n",
              "      <td>Cup Noodles Chicken Vegetable</td>\n",
              "      <td>Cup</td>\n",
              "      <td>USA</td>\n",
              "      <td>2.25</td>\n",
              "      <td>NaN</td>\n",
              "    </tr>\n",
              "    <tr>\n",
              "      <th>3</th>\n",
              "      <td>2577</td>\n",
              "      <td>Wei Lih</td>\n",
              "      <td>GGE Ramen Snack Tomato Flavor</td>\n",
              "      <td>Pack</td>\n",
              "      <td>Taiwan</td>\n",
              "      <td>2.75</td>\n",
              "      <td>NaN</td>\n",
              "    </tr>\n",
              "    <tr>\n",
              "      <th>4</th>\n",
              "      <td>2576</td>\n",
              "      <td>Ching's Secret</td>\n",
              "      <td>Singapore Curry</td>\n",
              "      <td>Pack</td>\n",
              "      <td>India</td>\n",
              "      <td>3.75</td>\n",
              "      <td>NaN</td>\n",
              "    </tr>\n",
              "  </tbody>\n",
              "</table>\n",
              "</div>\n",
              "      <button class=\"colab-df-convert\" onclick=\"convertToInteractive('df-95205550-eea3-4e05-aeae-bf0139f981e8')\"\n",
              "              title=\"Convert this dataframe to an interactive table.\"\n",
              "              style=\"display:none;\">\n",
              "        \n",
              "  <svg xmlns=\"http://www.w3.org/2000/svg\" height=\"24px\"viewBox=\"0 0 24 24\"\n",
              "       width=\"24px\">\n",
              "    <path d=\"M0 0h24v24H0V0z\" fill=\"none\"/>\n",
              "    <path d=\"M18.56 5.44l.94 2.06.94-2.06 2.06-.94-2.06-.94-.94-2.06-.94 2.06-2.06.94zm-11 1L8.5 8.5l.94-2.06 2.06-.94-2.06-.94L8.5 2.5l-.94 2.06-2.06.94zm10 10l.94 2.06.94-2.06 2.06-.94-2.06-.94-.94-2.06-.94 2.06-2.06.94z\"/><path d=\"M17.41 7.96l-1.37-1.37c-.4-.4-.92-.59-1.43-.59-.52 0-1.04.2-1.43.59L10.3 9.45l-7.72 7.72c-.78.78-.78 2.05 0 2.83L4 21.41c.39.39.9.59 1.41.59.51 0 1.02-.2 1.41-.59l7.78-7.78 2.81-2.81c.8-.78.8-2.07 0-2.86zM5.41 20L4 18.59l7.72-7.72 1.47 1.35L5.41 20z\"/>\n",
              "  </svg>\n",
              "      </button>\n",
              "      \n",
              "  <style>\n",
              "    .colab-df-container {\n",
              "      display:flex;\n",
              "      flex-wrap:wrap;\n",
              "      gap: 12px;\n",
              "    }\n",
              "\n",
              "    .colab-df-convert {\n",
              "      background-color: #E8F0FE;\n",
              "      border: none;\n",
              "      border-radius: 50%;\n",
              "      cursor: pointer;\n",
              "      display: none;\n",
              "      fill: #1967D2;\n",
              "      height: 32px;\n",
              "      padding: 0 0 0 0;\n",
              "      width: 32px;\n",
              "    }\n",
              "\n",
              "    .colab-df-convert:hover {\n",
              "      background-color: #E2EBFA;\n",
              "      box-shadow: 0px 1px 2px rgba(60, 64, 67, 0.3), 0px 1px 3px 1px rgba(60, 64, 67, 0.15);\n",
              "      fill: #174EA6;\n",
              "    }\n",
              "\n",
              "    [theme=dark] .colab-df-convert {\n",
              "      background-color: #3B4455;\n",
              "      fill: #D2E3FC;\n",
              "    }\n",
              "\n",
              "    [theme=dark] .colab-df-convert:hover {\n",
              "      background-color: #434B5C;\n",
              "      box-shadow: 0px 1px 3px 1px rgba(0, 0, 0, 0.15);\n",
              "      filter: drop-shadow(0px 1px 2px rgba(0, 0, 0, 0.3));\n",
              "      fill: #FFFFFF;\n",
              "    }\n",
              "  </style>\n",
              "\n",
              "      <script>\n",
              "        const buttonEl =\n",
              "          document.querySelector('#df-95205550-eea3-4e05-aeae-bf0139f981e8 button.colab-df-convert');\n",
              "        buttonEl.style.display =\n",
              "          google.colab.kernel.accessAllowed ? 'block' : 'none';\n",
              "\n",
              "        async function convertToInteractive(key) {\n",
              "          const element = document.querySelector('#df-95205550-eea3-4e05-aeae-bf0139f981e8');\n",
              "          const dataTable =\n",
              "            await google.colab.kernel.invokeFunction('convertToInteractive',\n",
              "                                                     [key], {});\n",
              "          if (!dataTable) return;\n",
              "\n",
              "          const docLinkHtml = 'Like what you see? Visit the ' +\n",
              "            '<a target=\"_blank\" href=https://colab.research.google.com/notebooks/data_table.ipynb>data table notebook</a>'\n",
              "            + ' to learn more about interactive tables.';\n",
              "          element.innerHTML = '';\n",
              "          dataTable['output_type'] = 'display_data';\n",
              "          await google.colab.output.renderOutput(dataTable, element);\n",
              "          const docLink = document.createElement('div');\n",
              "          docLink.innerHTML = docLinkHtml;\n",
              "          element.appendChild(docLink);\n",
              "        }\n",
              "      </script>\n",
              "    </div>\n",
              "  </div>\n",
              "  "
            ]
          },
          "metadata": {},
          "execution_count": 71
        }
      ]
    },
    {
      "cell_type": "code",
      "source": [
        "#checking total baris dan kolom yang ada\n",
        "data.shape"
      ],
      "metadata": {
        "colab": {
          "base_uri": "https://localhost:8080/"
        },
        "id": "d2T5kyQ4DnRn",
        "outputId": "e0973c40-d832-4f96-c87b-5cfd0a35e8be"
      },
      "execution_count": 72,
      "outputs": [
        {
          "output_type": "execute_result",
          "data": {
            "text/plain": [
              "(2580, 7)"
            ]
          },
          "metadata": {},
          "execution_count": 72
        }
      ]
    },
    {
      "cell_type": "markdown",
      "source": [
        "terdapat 7 kolom "
      ],
      "metadata": {
        "id": "t0VKdcn4iuWs"
      }
    },
    {
      "cell_type": "code",
      "source": [
        "#check apakah ada data yang kurang lengkap\n",
        "data.isna().sum()"
      ],
      "metadata": {
        "colab": {
          "base_uri": "https://localhost:8080/"
        },
        "id": "xzRc4YvRD87b",
        "outputId": "957b2302-e45d-4cb2-b866-31729e8cda50"
      },
      "execution_count": 73,
      "outputs": [
        {
          "output_type": "execute_result",
          "data": {
            "text/plain": [
              "Review #       0\n",
              "Brand          0\n",
              "Variety        0\n",
              "Style          2\n",
              "Country        0\n",
              "Stars          0\n",
              "Top Ten     2539\n",
              "dtype: int64"
            ]
          },
          "metadata": {},
          "execution_count": 73
        }
      ]
    },
    {
      "cell_type": "markdown",
      "source": [
        "berdasarkan kolom style terdapat data yang kurang lengkap atau kosong, maka kita akan hilangkan pada code dibawah"
      ],
      "metadata": {
        "id": "iaqDjxczi9iC"
      }
    },
    {
      "cell_type": "code",
      "source": [
        "data = data.dropna(subset=['Style'])\n",
        "print(data[\"Style\"].isna().sum())"
      ],
      "metadata": {
        "colab": {
          "base_uri": "https://localhost:8080/"
        },
        "id": "5jxvGyHsFcI5",
        "outputId": "1038ccd4-2163-435a-c147-cee1d3ec52a0"
      },
      "execution_count": 74,
      "outputs": [
        {
          "output_type": "stream",
          "name": "stdout",
          "text": [
            "0\n"
          ]
        }
      ]
    },
    {
      "cell_type": "code",
      "source": [
        "print(data['Variety'].unique())\n",
        "print(data['Variety'].value_counts())\n",
        "print(len(data[\"Variety\"].unique()),'variasi makanan')"
      ],
      "metadata": {
        "colab": {
          "base_uri": "https://localhost:8080/"
        },
        "id": "8jnChcCLGGaq",
        "outputId": "e0011319-0ba1-4e22-8b38-44491f7f520c"
      },
      "execution_count": 75,
      "outputs": [
        {
          "output_type": "stream",
          "name": "stdout",
          "text": [
            "[\"T's Restaurant Tantanmen \"\n",
            " 'Noodles Spicy Hot Sesame Spicy Hot Sesame Guan-miao Noodles'\n",
            " 'Cup Noodles Chicken Vegetable' ...\n",
            " 'Hu Tiu Nam Vang [\"Phnom Penh\" style] Asian Style Instant\\xa0Rice\\xa0Noodles'\n",
            " 'Oriental Style Instant Noodles' 'Tom Yum Chili Flavor']\n",
            "Beef                                 7\n",
            "Chicken                              7\n",
            "Yakisoba                             6\n",
            "Artificial Chicken                   6\n",
            "Vegetable                            6\n",
            "                                    ..\n",
            "Jah Jan Men                          1\n",
            "Oh! Ricey Pho Ga                     1\n",
            "Veggie Noodle Black Sesame Noodle    1\n",
            "Nuudeli Liha Nudlar Kott             1\n",
            "Tom Yum Chili Flavor                 1\n",
            "Name: Variety, Length: 2411, dtype: int64\n",
            "2411 variasi makanan\n"
          ]
        }
      ]
    },
    {
      "cell_type": "markdown",
      "source": [
        "berdasarkan kolom variety, ternyata ramen memiliki saat ini memiliki 2411 variasi dan variasi beef dan chicken merupakan yang terbanyak"
      ],
      "metadata": {
        "id": "vKjNr-IDjKHv"
      }
    },
    {
      "cell_type": "code",
      "source": [
        "print(data['Style'].unique())\n",
        "print(data['Style'].value_counts())"
      ],
      "metadata": {
        "colab": {
          "base_uri": "https://localhost:8080/"
        },
        "id": "KDx2y7C2Fdmv",
        "outputId": "d2ae78e3-a9c4-40b6-bcb5-256374c60b16"
      },
      "execution_count": 76,
      "outputs": [
        {
          "output_type": "stream",
          "name": "stdout",
          "text": [
            "['Cup' 'Pack' 'Tray' 'Bowl' 'Box' 'Can' 'Bar']\n",
            "Pack    1531\n",
            "Bowl     481\n",
            "Cup      450\n",
            "Tray     108\n",
            "Box        6\n",
            "Can        1\n",
            "Bar        1\n",
            "Name: Style, dtype: int64\n"
          ]
        }
      ]
    },
    {
      "cell_type": "markdown",
      "source": [
        "kemasan tipe pack saat ini banyak digunakan brand sebagai kemasan, terbukti dengan beberapa ramen instan yang tersebar di beberapa supermarket "
      ],
      "metadata": {
        "id": "PTb4xp2kjnfU"
      }
    },
    {
      "cell_type": "code",
      "source": [
        "print(data[\"Country\"].unique())\n",
        "print(data['Country'].value_counts())\n",
        "print(len(data[\"Country\"].unique()), 'Negara')"
      ],
      "metadata": {
        "colab": {
          "base_uri": "https://localhost:8080/"
        },
        "id": "ukCpCXzhH55I",
        "outputId": "8eaa2e4a-800e-44f5-9d95-135f75ff4108"
      },
      "execution_count": 77,
      "outputs": [
        {
          "output_type": "stream",
          "name": "stdout",
          "text": [
            "['Japan' 'Taiwan' 'USA' 'India' 'South Korea' 'Singapore' 'Thailand'\n",
            " 'Hong Kong' 'Vietnam' 'Ghana' 'Malaysia' 'Indonesia' 'China' 'Nigeria'\n",
            " 'Germany' 'Hungary' 'Mexico' 'Fiji' 'Australia' 'Pakistan' 'Bangladesh'\n",
            " 'Canada' 'Nepal' 'Brazil' 'UK' 'Myanmar' 'Netherlands' 'United States'\n",
            " 'Cambodia' 'Finland' 'Sarawak' 'Philippines' 'Sweden' 'Colombia'\n",
            " 'Estonia' 'Holland' 'Poland' 'Dubai']\n",
            "Japan            352\n",
            "USA              323\n",
            "South Korea      309\n",
            "Taiwan           223\n",
            "Thailand         191\n",
            "China            168\n",
            "Malaysia         156\n",
            "Hong Kong        137\n",
            "Indonesia        126\n",
            "Singapore        109\n",
            "Vietnam          108\n",
            "UK                69\n",
            "Philippines       47\n",
            "Canada            41\n",
            "India             31\n",
            "Germany           27\n",
            "Mexico            25\n",
            "Australia         22\n",
            "Netherlands       15\n",
            "Myanmar           14\n",
            "Nepal             14\n",
            "Pakistan           9\n",
            "Hungary            9\n",
            "Bangladesh         7\n",
            "Colombia           6\n",
            "Brazil             5\n",
            "Cambodia           5\n",
            "Fiji               4\n",
            "Holland            4\n",
            "Poland             4\n",
            "Finland            3\n",
            "Sarawak            3\n",
            "Sweden             3\n",
            "Dubai              3\n",
            "Ghana              2\n",
            "Estonia            2\n",
            "Nigeria            1\n",
            "United States      1\n",
            "Name: Country, dtype: int64\n",
            "38 Negara\n"
          ]
        }
      ]
    },
    {
      "cell_type": "markdown",
      "source": [
        "tersebar di 38 negara namun jepang dan USA merupakan konsumen terbesar"
      ],
      "metadata": {
        "id": "bh5QcOmMkIvA"
      }
    },
    {
      "cell_type": "code",
      "source": [
        "#menghitung ada berapa brand yang ada\n",
        "print(len(data['Brand'].unique()))"
      ],
      "metadata": {
        "colab": {
          "base_uri": "https://localhost:8080/"
        },
        "id": "4CGB0uyAH-GE",
        "outputId": "95378ca4-7aa8-4108-8bbd-1ebadee80291"
      },
      "execution_count": 78,
      "outputs": [
        {
          "output_type": "stream",
          "name": "stdout",
          "text": [
            "355\n"
          ]
        }
      ]
    },
    {
      "cell_type": "code",
      "source": [
        "data['Brand'].value_counts()[:10]"
      ],
      "metadata": {
        "colab": {
          "base_uri": "https://localhost:8080/"
        },
        "id": "S8Qg8SJrk6bp",
        "outputId": "76745a34-390f-4c08-958f-702234623009"
      },
      "execution_count": 120,
      "outputs": [
        {
          "output_type": "execute_result",
          "data": {
            "text/plain": [
              "Nissin           381\n",
              "Nongshim          98\n",
              "Maruchan          76\n",
              "Mama              71\n",
              "Paldo             66\n",
              "Myojo             63\n",
              "Indomie           53\n",
              "Samyang Foods     51\n",
              "Ottogi            45\n",
              "Vina Acecook      34\n",
              "Name: Brand, dtype: int64"
            ]
          },
          "metadata": {},
          "execution_count": 120
        }
      ]
    },
    {
      "cell_type": "markdown",
      "source": [
        "dari 355 brand, top 10 brand yang memilki variasi terbanyak salah satunya indomie berada pada urutan ke-7"
      ],
      "metadata": {
        "id": "FRuWucULk85A"
      }
    },
    {
      "cell_type": "code",
      "source": [
        "#check apakah ada data yang kosong atau data yang aneh\n",
        "for s in data['Stars']:\n",
        "    try:\n",
        "        s = float(s)\n",
        "    except:\n",
        "        print(s)"
      ],
      "metadata": {
        "colab": {
          "base_uri": "https://localhost:8080/"
        },
        "id": "uJvMyuVPNue1",
        "outputId": "0da28097-fc5e-43d8-bd7d-9f1785e1b9df"
      },
      "execution_count": 79,
      "outputs": [
        {
          "output_type": "stream",
          "name": "stdout",
          "text": [
            "Unrated\n",
            "Unrated\n",
            "Unrated\n"
          ]
        }
      ]
    },
    {
      "cell_type": "markdown",
      "source": [
        "berikut ini bertujuan untuk melakukan pengurutan berdasarkan rating"
      ],
      "metadata": {
        "id": "k2-HaFnwlR2V"
      }
    },
    {
      "cell_type": "code",
      "source": [
        "#terdapat data yang tidak memiliki rating, maka kita hilangkan saja\n",
        "data = data[data['Stars'] != 'Unrated']\n",
        "print(data[data['Stars'] == 'Unrated']['Stars'].sum())"
      ],
      "metadata": {
        "colab": {
          "base_uri": "https://localhost:8080/"
        },
        "id": "E6MDWnz5Nu-O",
        "outputId": "75a624a8-d27a-4fd9-a477-c70306eeffb3"
      },
      "execution_count": 80,
      "outputs": [
        {
          "output_type": "stream",
          "name": "stdout",
          "text": [
            "0\n"
          ]
        }
      ]
    },
    {
      "cell_type": "code",
      "source": [
        "variasi = list(data['Variety'].unique())\n",
        "hitung = [0.0]*2411\n",
        "variasi_h = dict(zip(variasi, hitung)) #mengubah ke dictionary untuk menghitung  ratings\n",
        "\n",
        "for varian in variasi:\n",
        "    varian_data = data[data['Variety'] == varian]\n",
        "    for star in varian_data['Stars']:\n",
        "        variasi_h[varian] += float(star) #hitung rating\n",
        "    variasi_h[varian] /= len(varian_data) #hitung rata-rata"
      ],
      "metadata": {
        "id": "k9MZ2la8N2se"
      },
      "execution_count": 121,
      "outputs": []
    },
    {
      "cell_type": "code",
      "source": [
        "top30ratings = [] #list untuk meyimpan hasil\n",
        "for key, values in variasi_h.items():\n",
        "    top30ratings.append([key,values])\n",
        "\n",
        "top30ratings = sorted(top30ratings, key = lambda x : x[1], reverse = True) #sortir berdasarkan descending order\n",
        "top30ratings\n",
        "for i in range(30):\n",
        "    print('#{:<4}{:65} {}'.format(i+1, top30ratings[i][0], round(top30ratings[i][1],2)))"
      ],
      "metadata": {
        "colab": {
          "base_uri": "https://localhost:8080/"
        },
        "id": "T0z8FwOWN6e0",
        "outputId": "6ef3bccd-802f-443c-dfe9-a9fa750b670b"
      },
      "execution_count": 122,
      "outputs": [
        {
          "output_type": "stream",
          "name": "stdout",
          "text": [
            "#1   Creamy tom Yum Kung Flavour                                       5.0\n",
            "#2   Yokohama Tonkotsu Shoyu                                           5.0\n",
            "#3   Demae Ramen Bar Noodle Aka Tonkotsu Flavour Instant Noodle        5.0\n",
            "#4   Tokyo Shoyu Ramen                                                 5.0\n",
            "#5   Beef Ramen                                                        5.0\n",
            "#6   Creamy Soup With Crushed Noodles Hot & Sour Fish Flavor           5.0\n",
            "#7   Penang White Curry Rice Vermicelli Soup                           5.0\n",
            "#8   Paegaejang Ramen                                                  5.0\n",
            "#9   Instant Noodles Laksa Singapura Flavour                           5.0\n",
            "#10  Cup Noodles Very Veggie Spicy Chicken Flavor Ramen Noodle Soup    5.0\n",
            "#11  Cup Noodles Very Veggie Beef Flavor Ramen Noodle Soup             5.0\n",
            "#12  Cup NoodlesTom Yam Seafood (More Shrimptacular)                   5.0\n",
            "#13  Cup Noodles Very Veggie Chicken Flavor Ramen Noodle Soup          5.0\n",
            "#14  Juzz's Mee Creamy Chicken Flavour (Export Version)                5.0\n",
            "#15  Straits Reborn Laksa                                              5.0\n",
            "#16  Hearty Japanese Style Curry Udon                                  5.0\n",
            "#17  Cup Noodles Blacl Pepper Crab Flavour (More Angry Crab)           5.0\n",
            "#18  Man Han Feast Spicy Beef Flavor Instant Noodles                   5.0\n",
            "#19  Dan Dan Noodle                                                    5.0\n",
            "#20  Samyang Ramen Classic Edition                                     5.0\n",
            "#21  Penang Red Tom Yum Goong Noodle                                   5.0\n",
            "#22  Supreme Creamy Tom Yum Noodle                                     5.0\n",
            "#23  Creamy Soup With Crushed Noodles Chicken Flavor                   5.0\n",
            "#24  Soba Yakitori Chicken                                             5.0\n",
            "#25  Scallion Oil & Soy Sauce Noodle                                   5.0\n",
            "#26  Sichuan Spices Flavor Noodle                                      5.0\n",
            "#27  Cup Noodles Mini Seafood Flavour                                  5.0\n",
            "#28  Sesame Oil Chicken Noodle With Rice Wine                          5.0\n",
            "#29  Katsuo Bowl Udon                                                  5.0\n",
            "#30  Creamy Soup With Crushed Noodles Sweet Corn Flavor                5.0\n"
          ]
        }
      ]
    },
    {
      "cell_type": "markdown",
      "source": [
        "Data di atas meruapakan hasil top 30 variasi ramen berdasarkan rating tertinggi"
      ],
      "metadata": {
        "id": "zu4ljRl2mUHK"
      }
    },
    {
      "cell_type": "code",
      "source": [
        "sns.set(style = 'darkgrid')\n",
        "f, ax = plt.subplots(1,1,figsize = (10,3))\n",
        "sns.countplot(x = 'Country', data = data)\n",
        "plt.xticks(rotation=90)\n",
        "plt.show()"
      ],
      "metadata": {
        "colab": {
          "base_uri": "https://localhost:8080/",
          "height": 408
        },
        "id": "G5Zb7FSVOAS8",
        "outputId": "3eaa6cec-777e-4d48-d26f-0e8cbbdb82fa"
      },
      "execution_count": 117,
      "outputs": [
        {
          "output_type": "display_data",
          "data": {
            "text/plain": [
              "<Figure size 1000x300 with 1 Axes>"
            ],
            "image/png": "[encoded data removed]"
          },
          "metadata": {}
        }
      ]
    },
    {
      "cell_type": "markdown",
      "source": [
        "Japan, USA dan South Korea merupakan konsumen terbesar saat ini"
      ],
      "metadata": {
        "id": "Ps8BqKf6mjur"
      }
    },
    {
      "cell_type": "code",
      "source": [
        "labels = 'Pack', 'Bowl', 'Cup' , 'Tray', 'Box' #We can't include 'Bar' and 'Can' because they only appear once in our data.\n",
        "size = [1531, 481, 450, 108, 6]\n",
        "\n",
        "f, ax = plt.subplots(1,1, figsize= (8,8))\n",
        "\n",
        "ax.pie(size, labels = labels, autopct = '%1.2f%%', startangle = 180)\n",
        "ax.axis('equal')\n",
        "ax.set_title(\"Style\", size = 20)\n",
        "\n",
        "plt.show()"
      ],
      "metadata": {
        "colab": {
          "base_uri": "https://localhost:8080/",
          "height": 683
        },
        "id": "VVpl54FpOEUB",
        "outputId": "72772cf1-d66c-4851-a1b9-107696ebf004"
      },
      "execution_count": 118,
      "outputs": [
        {
          "output_type": "display_data",
          "data": {
            "text/plain": [
              "<Figure size 800x800 with 1 Axes>"
            ],
            "image/png": "[encoded data removed]"
          },
          "metadata": {}
        }
      ]
    },
    {
      "cell_type": "markdown",
      "source": [],
      "metadata": {
        "id": "JyhcW10jm0DT"
      }
    },
    {
      "cell_type": "markdown",
      "source": [
        "Kesimpulan:\n",
        "Ramen memiliki pasar yang besar atas 3 negara yaitu Japan, USA dan South Korea. meskipun demikian brand indomie yang berasal dari indonesia berada pada urutan ke-7 berdasarkan variasi produk terbanyak dari beberapa brand di beberapa negara.\n",
        "\n",
        "berdasarkan top 30 variasi ramen, beef dan chicken merupakan variasi yang terbanyak hal ini mungkin saja peminat variasi ini sangat banyak. selain itu   Creamy tom Yum Kung Flavour dan Yokohama Tonkotsu Shoyu meruapakan 2 variasi ramen dengan rating tertinggi.\n",
        "\n",
        "saat ini konsumen lebih menyukai kemasan Pack, Bowl dan Cup. informasi ini bisa digunakan untuk produsen dalam menggunakan jenis kemasan."
      ],
      "metadata": {
        "id": "8_WwBR7Km_Gt"
      }
    }
  ]
}